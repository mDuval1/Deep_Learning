{
  "nbformat": 4,
  "nbformat_minor": 0,
  "metadata": {
    "kernelspec": {
      "display_name": "Python 3",
      "language": "python",
      "name": "python3"
    },
    "language_info": {
      "codemirror_mode": {
        "name": "ipython",
        "version": 3
      },
      "file_extension": ".py",
      "mimetype": "text/x-python",
      "name": "python",
      "nbconvert_exporter": "python",
      "pygments_lexer": "ipython3",
      "version": "3.5.7"
    },
    "colab": {
      "name": "DQM_project_MVA.ipynb",
      "provenance": [],
      "collapsed_sections": []
    }
  },
  "cells": [
    {
      "cell_type": "markdown",
      "metadata": {
        "id": "qkcmVpro2Zp5",
        "colab_type": "text"
      },
      "source": [
        "**You may need to install [OpenCV](https://pypi.python.org/pypi/opencv-python) and [scikit-video](http://www.scikit-video.org/stable/).**"
      ]
    },
    {
      "cell_type": "code",
      "metadata": {
        "id": "rulDWphG2g4s",
        "colab_type": "code",
        "outputId": "c991544e-8bb4-4cfd-d900-f61f3fcd702e",
        "colab": {
          "base_uri": "https://localhost:8080/",
          "height": 68
        }
      },
      "source": [
        "!pip install sk-video"
      ],
      "execution_count": 0,
      "outputs": [
        {
          "output_type": "stream",
          "text": [
            "Requirement already satisfied: sk-video in /usr/local/lib/python3.6/dist-packages (1.1.10)\n",
            "Requirement already satisfied: numpy in /usr/local/lib/python3.6/dist-packages (from sk-video) (1.17.5)\n",
            "Requirement already satisfied: scipy in /usr/local/lib/python3.6/dist-packages (from sk-video) (1.4.1)\n"
          ],
          "name": "stdout"
        }
      ]
    },
    {
      "cell_type": "code",
      "metadata": {
        "id": "XeKrIZO12Zp8",
        "colab_type": "code",
        "outputId": "8e0958de-c992-4617-9f9c-9a41c03a1fb6",
        "colab": {
          "base_uri": "https://localhost:8080/",
          "height": 80
        }
      },
      "source": [
        "import keras\n",
        "import numpy as np\n",
        "import io\n",
        "import base64\n",
        "from IPython.display import HTML\n",
        "import skvideo.io\n",
        "import cv2\n",
        "import json\n",
        "\n",
        "from keras.models import Sequential, model_from_json\n",
        "from keras.layers.core import Dense, Flatten\n",
        "from keras.optimizers import sgd, adam\n",
        "from keras.layers import Conv2D, MaxPooling2D, Activation, AveragePooling2D, Reshape, BatchNormalization"
      ],
      "execution_count": 0,
      "outputs": [
        {
          "output_type": "stream",
          "text": [
            "Using TensorFlow backend.\n"
          ],
          "name": "stderr"
        },
        {
          "output_type": "display_data",
          "data": {
            "text/html": [
              "<p style=\"color: red;\">\n",
              "The default version of TensorFlow in Colab will soon switch to TensorFlow 2.x.<br>\n",
              "We recommend you <a href=\"https://www.tensorflow.org/guide/migrate\" target=\"_blank\">upgrade</a> now \n",
              "or ensure your notebook will continue to use TensorFlow 1.x via the <code>%tensorflow_version 1.x</code> magic:\n",
              "<a href=\"https://colab.research.google.com/notebooks/tensorflow_version.ipynb\" target=\"_blank\">more info</a>.</p>\n"
            ],
            "text/plain": [
              "<IPython.core.display.HTML object>"
            ]
          },
          "metadata": {
            "tags": []
          }
        }
      ]
    },
    {
      "cell_type": "markdown",
      "metadata": {
        "id": "Z0nhmlje2ZqB",
        "colab_type": "text"
      },
      "source": [
        "# MiniProject on Deep Reinforcement Learning"
      ]
    },
    {
      "cell_type": "markdown",
      "metadata": {
        "id": "Izikc_LZ2ZqC",
        "colab_type": "text"
      },
      "source": [
        "__Notations__: $E_p$ is the expectation under probability $p$. Please justify each of your answer and widely comment your code."
      ]
    },
    {
      "cell_type": "markdown",
      "metadata": {
        "id": "fePm1JEH2ZqE",
        "colab_type": "text"
      },
      "source": [
        "# Context"
      ]
    },
    {
      "cell_type": "markdown",
      "metadata": {
        "id": "RYHF4RaS2ZqF",
        "colab_type": "text"
      },
      "source": [
        "In a reinforcement learning algorithm, we modelize each step $t$ as an action $a_t$ obtained from a state $s_t$, i.e. $\\{(a_{t},s_{t})_{t\\leq T}\\}$ having the Markov property. We consider a discount factor $\\gamma \\in [0,1]$ that ensures convergence. The goal is to find among all the policies $\\pi$, one that maximizes the expected reward:\n",
        "\n",
        "\\begin{equation*}\n",
        "R(\\pi)=\\sum_{t\\leq T}E_{p^{\\pi}}[\\gamma^t r(s_{t},a_{t})] \\> ,\n",
        "\\end{equation*}\n",
        "\n",
        "where: \n",
        "\\begin{equation*}p^{\\pi}(a_{0},a_{1},s_{1},...,a_{T},s_{T})=p(a_{0})\\prod_{t=1}^{T}\\pi(a_{t}|s_{t})p(s_{t+1}|s_{t},a_{t}) \\> .\n",
        "\\end{equation*}\n",
        "\n",
        "We note the $Q$-function:\n",
        "\n",
        "\\begin{equation*}Q^\\pi(s,a)=E_{p^{\\pi}}[\\sum_{t\\leq T}\\gamma^{t}r(s_{t},a_{t})|s_{0}=s,a_{0}=a] \\> .\n",
        "\\end{equation*}\n",
        "\n",
        "\n",
        "Thus, the optimal Q function is:\n",
        "\\begin{equation*}\n",
        "Q^*(s,a)=\\max_{\\pi}Q^\\pi(s,a) \\> .\n",
        "\\end{equation*}\n",
        "\n",
        "In this project, we will apply the deep reinforcement learning techniques to a simple game: an agent will have to learn from scratch a policy that will permit it maximizing a reward."
      ]
    },
    {
      "cell_type": "markdown",
      "metadata": {
        "id": "I4DY4rWZ2ZqG",
        "colab_type": "text"
      },
      "source": [
        "## The environment, the agent and the game"
      ]
    },
    {
      "cell_type": "markdown",
      "metadata": {
        "id": "LZF1PBMC2ZqJ",
        "colab_type": "text"
      },
      "source": [
        "### The environment"
      ]
    },
    {
      "cell_type": "markdown",
      "metadata": {
        "id": "uyU__mt72ZqL",
        "colab_type": "text"
      },
      "source": [
        "```Environment``` is an abstract class that represents the states, rewards, and actions to obtain the new state."
      ]
    },
    {
      "cell_type": "code",
      "metadata": {
        "id": "uNHSoqmP2ZqO",
        "colab_type": "code",
        "colab": {}
      },
      "source": [
        "class Environment(object):\n",
        "    def __init__(self):\n",
        "        pass\n",
        "\n",
        "    def act(self, act):\n",
        "        \"\"\"\n",
        "        One can act on the environment and obtain its reaction:\n",
        "        - the new state\n",
        "        - the reward of the new state\n",
        "        - should we continue the game?\n",
        "\n",
        "        :return: state, reward, game_over\n",
        "        \"\"\"\n",
        "        pass\n",
        "\n",
        "\n",
        "    def reset(self):\n",
        "        \"\"\"\n",
        "        Reinitialize the environment to a random state and returns\n",
        "        the original state\n",
        "\n",
        "        :return: state\n",
        "        \"\"\"\n",
        "        pass\n",
        "    \n",
        "    def draw(self):\n",
        "        \"\"\"\n",
        "        Visualize in the console or graphically the current state\n",
        "        \"\"\"\n",
        "        pass"
      ],
      "execution_count": 0,
      "outputs": []
    },
    {
      "cell_type": "markdown",
      "metadata": {
        "id": "LQXMPq632ZqS",
        "colab_type": "text"
      },
      "source": [
        "The method ```act``` allows to act on the environment at a given state $s_t$ (stored internally), via action $a_t$. The method will return the new state $s_{t+1}$, the reward $r(s_{t},a_{t})$ and determines if $t\\leq T$ (*game_over*).\n",
        "\n",
        "The method ```reset``` simply reinitializes the environment to a random state $s_0$.\n",
        "\n",
        "The method ```draw``` displays the current state $s_t$ (this is useful to check the behavior of the Agent).\n",
        "\n",
        "We modelize $s_t$ as a tensor, while $a_t$ is an integer."
      ]
    },
    {
      "cell_type": "markdown",
      "metadata": {
        "id": "nmDBEyPN2ZqS",
        "colab_type": "text"
      },
      "source": [
        "### The Agent"
      ]
    },
    {
      "cell_type": "markdown",
      "metadata": {
        "id": "VB5Igmw82ZqT",
        "colab_type": "text"
      },
      "source": [
        "The goal of the ```Agent``` is to interact with the ```Environment``` by proposing actions $a_t$ obtained from a given state $s_t$ to attempt to maximize its __reward__ $r(s_t,a_t)$. We propose the following abstract class:"
      ]
    },
    {
      "cell_type": "code",
      "metadata": {
        "id": "V6QTYHWO2ZqU",
        "colab_type": "code",
        "colab": {}
      },
      "source": [
        "class Agent(object):\n",
        "    def __init__(self, epsilon=0.1, n_action=4):\n",
        "        self.epsilon = epsilon\n",
        "        self.n_action = n_action\n",
        "    \n",
        "    def set_epsilon(self,e):\n",
        "        self.epsilon = e\n",
        "\n",
        "    def act(self,s,train=True):\n",
        "        \"\"\" This function should return the next action to do:\n",
        "        an integer between 0 and 4 (not included) with a random exploration of epsilon\"\"\"\n",
        "        if train:\n",
        "            if np.random.rand() <= self.epsilon:\n",
        "                a = np.random.randint(0, self.n_action, size=1)[0]\n",
        "            else:\n",
        "                a = self.learned_act(s)\n",
        "        else: # in some cases, this can improve the performance.. remove it if poor performances\n",
        "            a = self.learned_act(s)\n",
        "\n",
        "        return a\n",
        "\n",
        "    def learned_act(self,s):\n",
        "        \"\"\" Act via the policy of the agent, from a given state s\n",
        "        it proposes an action a\"\"\"\n",
        "        pass\n",
        "\n",
        "    def reinforce(self, s, n_s, a, r, game_over_):\n",
        "        \"\"\" This function is the core of the learning algorithm. \n",
        "        It takes as an input the current state s_, the next state n_s_\n",
        "        the action a_ used to move from s_ to n_s_ and the reward r_.\n",
        "        \n",
        "        Its goal is to learn a policy.\n",
        "        \"\"\"\n",
        "        pass\n",
        "\n",
        "    def save(self):\n",
        "        \"\"\" This function returns basic stats if applicable: the\n",
        "        loss and/or the model\"\"\"\n",
        "        pass\n",
        "\n",
        "    def load(self):\n",
        "        \"\"\" This function allows to restore a model\"\"\"\n",
        "        pass"
      ],
      "execution_count": 0,
      "outputs": []
    },
    {
      "cell_type": "markdown",
      "metadata": {
        "id": "wIdLB1322ZqZ",
        "colab_type": "text"
      },
      "source": [
        "***\n",
        "__Question 1__:\n",
        "Explain the function act. Why is ```epsilon``` essential?"
      ]
    },
    {
      "cell_type": "markdown",
      "metadata": {
        "id": "-gfC62ye2Zqa",
        "colab_type": "text"
      },
      "source": [
        "The function `act` is the function that returns an action to pick, given the current state. It has two behaviors : \n",
        "\n",
        "- during the training phase of the agent, with probability `epsilon`, the agent will pick a random action, and with probability `1-epsilon`, it will pick the best value according to its learnt Q state action value function. The `epsilon` parameter is essential because it allows the agent to discover new states : this is known as the exploration phase, an important aspect of reinforcement learning algorithm.\n",
        "- during the validation (=production) phase, we want to maximize the reward : we only pick optimal value (according to the Q function learnt by the agent during the training phase). This is known as the exploitation phase.\n",
        "\n",
        "This function `act` shows a simple application of the exploration-exploitation trade-off in reinforcement learning."
      ]
    },
    {
      "cell_type": "markdown",
      "metadata": {
        "id": "jpR1gvdy2Zqb",
        "colab_type": "text"
      },
      "source": [
        "***\n",
        "### The Game"
      ]
    },
    {
      "cell_type": "markdown",
      "metadata": {
        "id": "8AlrQTXF2Zqc",
        "colab_type": "text"
      },
      "source": [
        "The ```Agent``` and the ```Environment``` work in an interlaced way as in the following (take some time to understand this code as it is the core of the project)\n",
        "\n",
        "```python\n",
        "\n",
        "epoch = 300\n",
        "env = Environment()\n",
        "agent = Agent()\n",
        "\n",
        "\n",
        "# Number of won games\n",
        "score = 0\n",
        "loss = 0\n",
        "\n",
        "\n",
        "for e in range(epoch):\n",
        "    # At each epoch, we restart to a fresh game and get the initial state\n",
        "    state = env.reset()\n",
        "    # This assumes that the games will end\n",
        "    game_over = False\n",
        "\n",
        "    win = 0\n",
        "    lose = 0\n",
        "    \n",
        "    while not game_over:\n",
        "        # The agent performs an action\n",
        "        action = agent.act(state)\n",
        "\n",
        "        # Apply an action to the environment, get the next state, the reward\n",
        "        # and if the games end\n",
        "        prev_state = state\n",
        "        state, reward, game_over = env.act(action)\n",
        "\n",
        "        # Update the counters\n",
        "        if reward > 0:\n",
        "            win = win + reward\n",
        "        if reward < 0:\n",
        "            lose = lose -reward\n",
        "\n",
        "        # Apply the reinforcement strategy\n",
        "        loss = agent.reinforce(prev_state, state,  action, reward, game_over)\n",
        "\n",
        "    # Save as a mp4\n",
        "    if e % 10 == 0:\n",
        "        env.draw(e)\n",
        "\n",
        "    # Update stats\n",
        "    score += win-lose\n",
        "\n",
        "    print(\"Epoch {:03d}/{:03d} | Loss {:.4f} | Win/lose count {}/{} ({})\"\n",
        "          .format(e, epoch, loss, win, lose, win-lose))\n",
        "    agent.save()\n",
        "```"
      ]
    },
    {
      "cell_type": "markdown",
      "metadata": {
        "id": "JJIu8WYw2Zqd",
        "colab_type": "text"
      },
      "source": [
        "# The game, *eat cheese*"
      ]
    },
    {
      "cell_type": "markdown",
      "metadata": {
        "id": "AkT59ZkT2Zqe",
        "colab_type": "text"
      },
      "source": [
        "A rat runs on an island and tries to eat as much as possible. The island is subdivided into $N\\times N$ cells, in which there are cheese (+0.5) and poisonous cells (-1). The rat has a visibility of 2 cells (thus it can see $5^2$ cells). The rat is given a time $T$ to accumulate as much food as possible. It can perform 4 actions: going up, down, left, right. \n",
        "\n",
        "The goal is to code an agent to solve this task that will learn by trial and error. We propose the following environment:"
      ]
    },
    {
      "cell_type": "code",
      "metadata": {
        "id": "NIRT1ki_2Zqg",
        "colab_type": "code",
        "colab": {}
      },
      "source": [
        "class Environment(object):\n",
        "    def __init__(self, grid_size=10, max_time=500, temperature=0.1):\n",
        "        grid_size = grid_size+4\n",
        "        self.grid_size = grid_size\n",
        "        self.max_time = max_time\n",
        "        self.temperature = temperature\n",
        "\n",
        "        #board on which one plays\n",
        "        self.board = np.zeros((grid_size,grid_size))\n",
        "        self.position = np.zeros((grid_size,grid_size))\n",
        "\n",
        "        # coordinate of the cat\n",
        "        self.x = 0\n",
        "        self.y = 1\n",
        "\n",
        "        # self time\n",
        "        self.t = 0\n",
        "\n",
        "        self.scale=16\n",
        "\n",
        "        self.to_draw = np.zeros((max_time+2, grid_size*self.scale, grid_size*self.scale, 3))\n",
        "\n",
        "\n",
        "    def draw(self,e):\n",
        "        skvideo.io.vwrite(str(e) + '.mp4', self.to_draw)\n",
        "\n",
        "    def get_frame(self,t):\n",
        "        b = np.zeros((self.grid_size,self.grid_size,3))+128\n",
        "        b[self.board>0,0] = 256\n",
        "        b[self.board < 0, 2] = 256\n",
        "        b[self.x,self.y,:]=256\n",
        "        b[-2:,:,:]=0\n",
        "        b[:,-2:,:]=0\n",
        "        b[:2,:,:]=0\n",
        "        b[:,:2,:]=0\n",
        "        \n",
        "        b =  cv2.resize(b, None, fx=self.scale, fy=self.scale, interpolation=cv2.INTER_NEAREST)\n",
        "\n",
        "        self.to_draw[t,:,:,:]=b\n",
        "\n",
        "\n",
        "    def act(self, action):\n",
        "        \"\"\"This function returns the new state, reward and decides if the\n",
        "        game ends.\"\"\"\n",
        "\n",
        "        self.get_frame(int(self.t))\n",
        "\n",
        "        self.position = np.zeros((self.grid_size, self.grid_size))\n",
        "\n",
        "        self.position[0:2,:]= -1\n",
        "        self.position[:,0:2] = -1\n",
        "        self.position[-2:, :] = -1\n",
        "        self.position[-2:, :] = -1\n",
        "\n",
        "        self.position[self.x, self.y] = 1\n",
        "        if action == 0:\n",
        "            if self.x == self.grid_size-3:\n",
        "                self.x = self.x-1\n",
        "            else:\n",
        "                self.x = self.x + 1\n",
        "        elif action == 1:\n",
        "            if self.x == 2:\n",
        "                self.x = self.x+1\n",
        "            else:\n",
        "                self.x = self.x-1\n",
        "        elif action == 2:\n",
        "            if self.y == self.grid_size - 3:\n",
        "                self.y = self.y - 1\n",
        "            else:\n",
        "                self.y = self.y + 1\n",
        "        elif action == 3:\n",
        "            if self.y == 2:\n",
        "                self.y = self.y + 1\n",
        "            else:\n",
        "                self.y = self.y - 1\n",
        "        else:\n",
        "            RuntimeError('Error: action not recognized')\n",
        "\n",
        "        self.t = self.t + 1\n",
        "        reward = self.board[self.x, self.y]\n",
        "        self.board[self.x, self.y] = 0\n",
        "        game_over = self.t > self.max_time\n",
        "        state = np.concatenate((self.board.reshape(self.grid_size, self.grid_size,1),\n",
        "                        self.position.reshape(self.grid_size, self.grid_size,1)),axis=2)\n",
        "        state = state[self.x-2:self.x+3,self.y-2:self.y+3,:]\n",
        "\n",
        "        return state, reward, game_over\n",
        "\n",
        "    def reset(self):\n",
        "        \"\"\"This function resets the game and returns the initial state\"\"\"\n",
        "\n",
        "        self.x = np.random.randint(3, self.grid_size-3, size=1)[0]\n",
        "        self.y = np.random.randint(3, self.grid_size-3, size=1)[0]\n",
        "\n",
        "\n",
        "        bonus = 0.5*np.random.binomial(1,self.temperature,size=self.grid_size**2)\n",
        "        bonus = bonus.reshape(self.grid_size,self.grid_size)\n",
        "\n",
        "        malus = -1.0*np.random.binomial(1,self.temperature,size=self.grid_size**2)\n",
        "        malus = malus.reshape(self.grid_size, self.grid_size)\n",
        "\n",
        "        self.to_draw = np.zeros((self.max_time+2, self.grid_size*self.scale, self.grid_size*self.scale, 3))\n",
        "\n",
        "\n",
        "        malus[bonus>0]=0\n",
        "\n",
        "        self.board = bonus + malus\n",
        "\n",
        "        self.position = np.zeros((self.grid_size, self.grid_size))\n",
        "        self.position[0:2,:]= -1\n",
        "        self.position[:,0:2] = -1\n",
        "        self.position[-2:, :] = -1\n",
        "        self.position[-2:, :] = -1\n",
        "        self.board[self.x,self.y] = 0\n",
        "        self.t = 0\n",
        "\n",
        "        state = np.concatenate((\n",
        "                               self.board.reshape(self.grid_size, self.grid_size,1),\n",
        "                        self.position.reshape(self.grid_size, self.grid_size,1)),axis=2)\n",
        "\n",
        "        state = state[self.x - 2:self.x + 3, self.y - 2:self.y + 3, :]\n",
        "        return state"
      ],
      "execution_count": 0,
      "outputs": []
    },
    {
      "cell_type": "markdown",
      "metadata": {
        "id": "y2WGMdMG2Zqk",
        "colab_type": "text"
      },
      "source": [
        "The following elements are important because they correspond to the hyper parameters for this project:"
      ]
    },
    {
      "cell_type": "code",
      "metadata": {
        "id": "1AngJsup2Zqm",
        "colab_type": "code",
        "colab": {}
      },
      "source": [
        "# parameters\n",
        "size = 13\n",
        "T=200\n",
        "temperature=0.3\n",
        "epochs_train=5 # set small when debugging\n",
        "epochs_test=2 # set small when debugging\n",
        "\n",
        "# display videos\n",
        "def display_videos(name):\n",
        "    video = io.open(name, 'r+b').read()\n",
        "    encoded = base64.b64encode(video)\n",
        "    return '''<video alt=\"test\" controls>\n",
        "                <source src=\"data:video/mp4;base64,{0}\" type=\"video/mp4\" />\n",
        "             </video>'''.format(encoded.decode('ascii'))"
      ],
      "execution_count": 0,
      "outputs": []
    },
    {
      "cell_type": "markdown",
      "metadata": {
        "id": "NTgtQI7S2Zqs",
        "colab_type": "text"
      },
      "source": [
        "__Question 2__ Explain the use of the arrays ```position``` and ```board```."
      ]
    },
    {
      "cell_type": "markdown",
      "metadata": {
        "id": "5lG0-EmB2Zqt",
        "colab_type": "text"
      },
      "source": [
        "The `position` array is used as the array that keeps track of the position of the rat, while the array `board` is used as the array of the rewards of being in every position (0 if nothing, 0.5 if cheese, and -1 if poisenous)."
      ]
    },
    {
      "cell_type": "markdown",
      "metadata": {
        "id": "Ox6xnyCp2Zqu",
        "colab_type": "text"
      },
      "source": [
        "## Random Agent"
      ]
    },
    {
      "cell_type": "markdown",
      "metadata": {
        "id": "d7knv7zT2Zqv",
        "colab_type": "text"
      },
      "source": [
        "***\n",
        "__Question 3__ Implement a random Agent (only ```learned_act``` needs to be implemented):"
      ]
    },
    {
      "cell_type": "code",
      "metadata": {
        "id": "SEKcUl1M2Zqw",
        "colab_type": "code",
        "colab": {}
      },
      "source": [
        "class RandomAgent(Agent):\n",
        "    def __init__(self):\n",
        "        super(RandomAgent, self).__init__()\n",
        "        pass\n",
        "\n",
        "    def learned_act(self, s):\n",
        "        return np.random.randint(self.n_action)"
      ],
      "execution_count": 0,
      "outputs": []
    },
    {
      "cell_type": "markdown",
      "metadata": {
        "id": "i6R3Eul-2Zq0",
        "colab_type": "text"
      },
      "source": [
        "***\n",
        "***\n",
        "__Question 4__ Visualize the game moves. You need to fill in the following function for the evaluation:"
      ]
    },
    {
      "cell_type": "code",
      "metadata": {
        "id": "LRqmcc2h2Zq1",
        "colab_type": "code",
        "colab": {}
      },
      "source": [
        "def test(agent,env,epochs,prefix=''):\n",
        "    # Number of won games\n",
        "    score = 0\n",
        "        \n",
        "    for e in range(epochs):\n",
        "        state = env.reset()\n",
        "        game_over = False\n",
        "        win = 0\n",
        "        lose = 0\n",
        "        while not game_over:\n",
        "            action = agent.act(state, train=True) # Poor performance when train=False\n",
        "            prev_state = state\n",
        "            state, reward, game_over = env.act(action)\n",
        "            if reward > 0:\n",
        "                win = win + reward\n",
        "            if reward < 0:\n",
        "                lose = lose -reward\n",
        "        \n",
        "        # Save as a mp4\n",
        "        env.draw(prefix+str(e))\n",
        "\n",
        "        # Update stats\n",
        "        score = score + win-lose\n",
        "\n",
        "        print(\"Win/lose count {}/{}. Average score ({})\"\n",
        "              .format(win, lose, score/(1+e)))\n",
        "    print('Final score: '+str(score/epochs))"
      ],
      "execution_count": 0,
      "outputs": []
    },
    {
      "cell_type": "code",
      "metadata": {
        "id": "amIVVbyj2Zq6",
        "colab_type": "code",
        "outputId": "e7898a31-f9da-4c8f-ea5b-a5e78ad05c45",
        "colab": {
          "base_uri": "https://localhost:8080/",
          "height": 222
        }
      },
      "source": [
        "# Initialize the game\n",
        "env = Environment(grid_size=size, max_time=T,temperature=0.3)\n",
        "\n",
        "# Initialize the agent!\n",
        "agent = RandomAgent()\n",
        "\n",
        "test(agent,env,epochs_test,prefix='random')\n",
        "HTML(display_videos('random0.mp4'))"
      ],
      "execution_count": 0,
      "outputs": [
        {
          "output_type": "stream",
          "text": [
            "Win/lose count 10.0/14.0. Average score (-4.0)\n",
            "Win/lose count 14.5/20.0. Average score (-4.75)\n",
            "Final score: -4.75\n"
          ],
          "name": "stdout"
        },
        {
          "output_type": "execute_result",
          "data": {
            "text/html": [
              "<video alt=\"test\" controls>\n",
              "                <source src=\"data:video/mp4;base64,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\" type=\"video/mp4\" />\n",
              "             </video>"
            ],
            "text/plain": [
              "<IPython.core.display.HTML object>"
            ]
          },
          "metadata": {
            "tags": []
          },
          "execution_count": 9
        }
      ]
    },
    {
      "cell_type": "markdown",
      "metadata": {
        "id": "E8rcoTib2Zq-",
        "colab_type": "text"
      },
      "source": [
        "***\n",
        "## DQN"
      ]
    },
    {
      "cell_type": "markdown",
      "metadata": {
        "id": "W5zBorp12ZrA",
        "colab_type": "text"
      },
      "source": [
        "Let us assume here that $T=\\infty$.\n",
        "\n",
        "***\n",
        "__Question 5__ Let $\\pi$ be a policy, show that:\n",
        "\n",
        "\\begin{equation*}\n",
        "Q^{\\pi}(s,a)=E_{(s',a')\\sim p(.|s,a)}[r(s,a)+\\gamma Q^{\\pi}(s',a')]\n",
        "\\end{equation*}\n",
        "\n",
        "Then, show that for the optimal policy $\\pi^*$ (we assume its existence), the following holds: \n",
        "\n",
        "\\begin{equation*}\n",
        "Q^{*}(s,a)=E_{s'\\sim \\pi^*(.|s,a)}[r(s,a)+\\gamma\\max_{a'}Q^{*}(s',a')].\n",
        "\\end{equation*}\n",
        "Finally, deduce that a plausible objective is:\n",
        "\n",
        "\\begin{equation*}\n",
        "\\mathcal{L}(\\theta)=E_{s' \\sim \\pi^*(.|s,a)}\\Vert r+\\gamma\\max_{a'}Q(s',a',\\theta)-Q(s,a,\\theta)\\Vert^{2}.\n",
        "\\end{equation*}\n",
        "\n",
        "\n"
      ]
    },
    {
      "cell_type": "markdown",
      "metadata": {
        "id": "I-lGulHH2ZrB",
        "colab_type": "text"
      },
      "source": [
        "### **First equality**\n",
        "Starting from the following equation : \n",
        "\n",
        "\\begin{equation*}Q^\\pi(s,a)=E_{p^{\\pi}}[\\sum_{t\\leq T}\\gamma^{t}r(s_{t},a_{t})|s_{0}=s,a_{0}=a]\n",
        "\\end{equation*}\n",
        "\n",
        "With $T = \\infty$, we have that :\n",
        "\n",
        "\\begin{equation*}Q^\\pi(s,a)=E_{p^{\\pi}}[\\sum_{t=0}^{\\infty}\\gamma^{t}r(s_{t},a_{t})|s_{0}=s,a_{0}=a] = r(s, a) + E_{p^{\\pi}}[\\sum_{t=1}^{\\infty}\\gamma^{t}r(s_{t},a_{t})|s_{0}=s,a_{0}=a]\n",
        "\\end{equation*}\n",
        "\n",
        "Denoting by $p(.|s, a)$ the probability distribution of the next state-action given the current state action $(s, a)$, we have that :\n",
        "\n",
        "\\begin{equation*}Q^\\pi(s,a)= r(s, a) + E_{(s', a') \\sim p(.|s, a)}E_{p^{\\pi}}[\\sum_{t=1}^{\\infty}\\gamma^{t}r(s_{t},a_{t})|s_{1}=s',a_{1}=a']\n",
        "\\end{equation*}\n",
        "\n",
        "Which gives :\n",
        "\n",
        "\\begin{equation*}Q^\\pi(s,a)= r(s, a) + \\gamma E_{(s', a') \\sim p(.|s, a)}E_{p^{\\pi}}[\\sum_{t=0}^{\\infty}\\gamma^{t}r(s_{t+1},a_{t+1})|s_{1}=s',a_{1}=a']\n",
        "\\end{equation*}\n",
        "\n",
        "But \n",
        "\n",
        "\\begin{equation*}E_{p^{\\pi}}[\\sum_{t=0}^{\\infty}\\gamma^{t}r(s_{t+1},a_{t+1})|s_{1}=s',a_{1}=a'] = E_{p^{\\pi}}[\\sum_{t=0}^{\\infty}\\gamma^{t}r(s_{t},a_{t})|s_{0}=s',a_{0}=a'] = Q^{\\pi}(s', a')\n",
        "\\end{equation*}\n",
        "\n",
        "So that :\n",
        "\n",
        "\\begin{equation*}Q^\\pi(s,a)= r(s, a) + \\gamma E_{(s', a') \\sim p(.|s, a)}Q^{\\pi}(s', a')\n",
        "\\end{equation*}\n",
        "\n",
        "And since $p(.|s, a)$ sums to one we can include the reward into the expectation :\n",
        "\n",
        "\\begin{equation*}Q^\\pi(s,a)= E_{(s', a') \\sim p(.|s, a)} [r(s, a) + \\gamma Q^{\\pi}(s', a')]\n",
        "\\end{equation*}"
      ]
    },
    {
      "cell_type": "markdown",
      "metadata": {
        "id": "zh0J9oYp_41L",
        "colab_type": "text"
      },
      "source": [
        "### **Second equality**\n",
        "First we note that sampling $(s', a') \\sim p(.|s, a)$ is equivalent to sampling $s'$ from $\\tilde{p}(.|s, a)$ then $a'$ from $\\pi(.|s')$.\n",
        "We can suppose that the optimal policy is deterministic : we replace $a' \\sim \\pi(.|s')$ by $a' = \\pi(s')$. Then by the equality we just proved, for $\\pi = \\pi^*$ :\n",
        "$$\n",
        "Q^*(s,a)= r(s, a) + E_{s' \\sim \\tilde{p}(.|s, a)} [\\gamma Q^*(s', \\pi^*(s')]\n",
        "$$\n",
        "\n",
        "But $Q^*(s', \\pi^*(s')$ = $\\max_{a'} Q^*(s', a')$ so we have : \n",
        "\n",
        "\\begin{equation*}\n",
        "Q^{*}(s,a)=E_{s'\\sim \\pi^*(.|s,a)}[r(s,a)+\\gamma\\max_{a'}Q^{*}(s',a')].\n",
        "\\end{equation*}"
      ]
    },
    {
      "cell_type": "markdown",
      "metadata": {
        "id": "yPP4vGd13cS1",
        "colab_type": "text"
      },
      "source": [
        "### **Third part**\n",
        "By the optimal Bellman equation, the error \n",
        "$$\n",
        "\\mathcal{L}(\\theta)=E_{s' \\sim \\pi^*(.|s,a)}\\Vert r+\\gamma\\max_{a'}Q(s',a',\\theta)-Q(s,a,\\theta)\\Vert^{2}.\n",
        "$$\n",
        "measures by how much our estimate $Q(., ., \\theta)$ diverges from the ground truth $Q^*(s, a)$ : if $Q(., ., \\theta) = Q^*(s, a)$, this error is 0 by the optimal Bellman equation."
      ]
    },
    {
      "cell_type": "markdown",
      "metadata": {
        "id": "mYpYATGV2ZrC",
        "colab_type": "text"
      },
      "source": [
        "***\n",
        "The DQN-learning algorithm relies on these derivations to train the parameters $\\theta$ of a Deep Neural Network:\n",
        "\n",
        "1. At the state $s_t$, select the action $a_t$ with best reward using $Q_t$ and store the results;\n",
        "\n",
        "2. Obtain the new state $s_{t+1}$ from the environment $p$;\n",
        "\n",
        "3. Store $(s_t,a_t,s_{t+1})$;\n",
        "\n",
        "4. Obtain $Q_{t+1}$ by minimizing  $\\mathcal{L}$ from a recovered batch from the previously stored results.\n",
        "\n",
        "***\n",
        "__Question 6__ Implement the class ```Memory``` that stores moves (in a replay buffer) via ```remember``` and provides a ```random_access``` to these. Specify a maximum memory size to avoid side effects. You can for example use a ```list()``` and set by default ```max_memory=100```."
      ]
    },
    {
      "cell_type": "code",
      "metadata": {
        "id": "FzQiEecG2ZrD",
        "colab_type": "code",
        "colab": {}
      },
      "source": [
        "class Memory(object):\n",
        "    def __init__(self, max_memory=100):\n",
        "        self.max_memory = max_memory\n",
        "        self.memory = list()\n",
        "        self.pos = 0\n",
        "\n",
        "    def remember(self, m):\n",
        "        if len(self.memory) == self.max_memory:\n",
        "            self.memory[self.pos % self.max_memory] = m\n",
        "        else:\n",
        "            self.memory.append(m)\n",
        "        self.pos += 1\n",
        "\n",
        "    def random_access(self):\n",
        "        return self.memory[np.random.randint(len(self.memory))]"
      ],
      "execution_count": 0,
      "outputs": []
    },
    {
      "cell_type": "markdown",
      "metadata": {
        "id": "1xP_nibk2ZrI",
        "colab_type": "text"
      },
      "source": [
        "***\n",
        "The pipeline we will use for training is given below:"
      ]
    },
    {
      "cell_type": "code",
      "metadata": {
        "id": "U4PwzIE62ZrJ",
        "colab_type": "code",
        "colab": {}
      },
      "source": [
        "def train(agent,env,epoch,prefix=''):\n",
        "    # Number of won games\n",
        "    score = 0\n",
        "    loss = 0\n",
        "\n",
        "    for e in range(epoch):\n",
        "        # At each epoch, we restart to a fresh game and get the initial state\n",
        "        state = env.reset()\n",
        "        # This assumes that the games will terminate\n",
        "        game_over = False\n",
        "\n",
        "        win = 0\n",
        "        lose = 0\n",
        "\n",
        "        while not game_over:\n",
        "            # The agent performs an action\n",
        "            action = agent.act(state)\n",
        "\n",
        "            # Apply an action to the environment, get the next state, the reward\n",
        "            # and if the games end\n",
        "            prev_state = state\n",
        "            state, reward, game_over = env.act(action)\n",
        "\n",
        "            # Update the counters\n",
        "            if reward > 0:\n",
        "                win = win + reward\n",
        "            if reward < 0:\n",
        "                lose = lose -reward\n",
        "\n",
        "            # Apply the reinforcement strategy\n",
        "            loss = agent.reinforce(prev_state, state,  action, reward, game_over)\n",
        "\n",
        "        # Save as a mp4\n",
        "        if e % 10 == 0:\n",
        "            env.draw(prefix+str(e))\n",
        "\n",
        "        # Update stats\n",
        "        score += win-lose\n",
        "\n",
        "        print(\"Epoch {:03d}/{:03d} | Loss {:.4f} | Win/lose count {}/{} ({})\"\n",
        "              .format(e, epoch, loss, win, lose, win-lose))\n",
        "        agent.save(name_weights=prefix+'model.h5',name_model=prefix+'model.json')"
      ],
      "execution_count": 0,
      "outputs": []
    },
    {
      "cell_type": "markdown",
      "metadata": {
        "id": "T9naO7hD2ZrM",
        "colab_type": "text"
      },
      "source": [
        "***\n",
        "__Question 7__ Implement the DQN training algorithm using a cascade of fully connected layers. You can use different learning rate, batch size or memory size parameters. In particular, the loss might oscillate while the player will start to win the games. You have to find a good criterium."
      ]
    },
    {
      "cell_type": "code",
      "metadata": {
        "id": "9bXU_Qvs2ZrO",
        "colab_type": "code",
        "colab": {}
      },
      "source": [
        "class DQN(Agent):\n",
        "    def __init__(self, grid_size,  epsilon = 0.1, memory_size=100, batch_size = 16,n_state=2):\n",
        "        super(DQN, self).__init__(epsilon = epsilon)\n",
        "\n",
        "        # Discount for Q learning\n",
        "        self.discount = 0.99\n",
        "        \n",
        "        self.grid_size = grid_size\n",
        "        \n",
        "        # number of state\n",
        "        self.n_state = n_state\n",
        "\n",
        "        # Memory\n",
        "        self.memory = Memory(memory_size)\n",
        "        \n",
        "        # Batch size when learning\n",
        "        self.batch_size = batch_size\n",
        "\n",
        "    def learned_act(self, s):\n",
        "        Qs_a = self.model.predict(s.reshape(1, 5, 5, self.n_state))\n",
        "        return Qs_a.argmax()\n",
        "\n",
        "    def reinforce(self, s_, n_s_, a_, r_, game_over_):\n",
        "        # Two steps: first memorize the states, second learn from the pool\n",
        "\n",
        "        self.memory.remember([s_, n_s_, a_, r_, game_over_])\n",
        "        \n",
        "        input_states = np.zeros((self.batch_size, 5, 5, self.n_state))\n",
        "        target_q = np.zeros((self.batch_size, 4))\n",
        "        \n",
        "        for i in range(self.batch_size):\n",
        "            s_, n_s_, a_, r_, game_over_ = self.memory.random_access()\n",
        "            \n",
        "            input_states[i] = s_\n",
        "            target_q[i] = self.model.predict(s_.reshape(1, 5, 5, self.n_state))\n",
        "            \n",
        "            if game_over_:\n",
        "                ######## FILL IN\n",
        "                target_q[i, a_] = r_\n",
        "            else:\n",
        "                ######## FILL IN\n",
        "                target_q[i, a_] = r_ + self.discount*self.model.predict(n_s_.reshape(1, 5, 5, self.n_state)).max()\n",
        "\n",
        "        ######## FILL IN\n",
        "        # HINT: Clip the target to avoid exploiding gradients.. -- clipping is a bit tighter\n",
        "        target_q = np.clip(target_q, -3, 3)\n",
        "\n",
        "        l = self.model.train_on_batch(input_states, target_q)\n",
        "        return l\n",
        "\n",
        "    def save(self,name_weights='model.h5',name_model='model.json'):\n",
        "        self.model.save_weights(name_weights, overwrite=True)\n",
        "        with open(name_model, \"w\") as outfile:\n",
        "            json.dump(self.model.to_json(), outfile)\n",
        "            \n",
        "    def load(self,name_weights='model.h5',name_model='model.json'):\n",
        "        with open(name_model, \"r\") as jfile:\n",
        "            model = model_from_json(json.load(jfile))\n",
        "        model.load_weights(name_weights)\n",
        "        model.compile(\"sgd\", \"mse\")\n",
        "        self.model = model\n",
        "\n",
        "            \n",
        "class DQN_FC(DQN):\n",
        "    def __init__(self, *args, lr=0.1,**kwargs):\n",
        "        super(DQN_FC, self).__init__( *args,**kwargs)\n",
        "        \n",
        "        # NN Model\n",
        "\n",
        "        ####### FILL IN\n",
        "        model = Sequential()\n",
        "        model.add(Flatten(input_shape=(5, 5, self.n_state)))\n",
        "        model.add(Dense(50, activation='relu'))\n",
        "        # model.add(Dense(50, activation='relu'))\n",
        "        model.add(Dense(4, activation='linear'))\n",
        "        \n",
        "        model.compile(adam(lr=lr, decay=1e-4), \"mse\")\n",
        "        # model.compile(sgd(lr=lr, decay=1e-4, momentum=0.0), \"mse\")\n",
        "        self.model = model\n",
        "        "
      ],
      "execution_count": 0,
      "outputs": []
    },
    {
      "cell_type": "code",
      "metadata": {
        "id": "3_kmiRcW2ZrS",
        "colab_type": "code",
        "outputId": "c2643191-c331-409e-8489-3445828847b0",
        "colab": {
          "base_uri": "https://localhost:8080/",
          "height": 919
        }
      },
      "source": [
        "# parameters\n",
        "size = 13\n",
        "T=200\n",
        "temperature=0.3\n",
        "epochs_train=20 # set small when debugging\n",
        "epochs_test=20 # set small when debugging\n",
        "\n",
        "\n",
        "env = Environment(grid_size=size, max_time=T, temperature=0.3)\n",
        "agent = DQN_FC(size, lr=1e-3, epsilon = 0.1, memory_size=2000, batch_size=32)\n",
        "train(agent, env, epochs_train, prefix='fc_train')\n",
        "HTML(display_videos('fc_train10.mp4'))"
      ],
      "execution_count": 0,
      "outputs": [
        {
          "output_type": "stream",
          "text": [
            "WARNING:tensorflow:From /usr/local/lib/python3.6/dist-packages/keras/backend/tensorflow_backend.py:66: The name tf.get_default_graph is deprecated. Please use tf.compat.v1.get_default_graph instead.\n",
            "\n",
            "WARNING:tensorflow:From /usr/local/lib/python3.6/dist-packages/keras/backend/tensorflow_backend.py:541: The name tf.placeholder is deprecated. Please use tf.compat.v1.placeholder instead.\n",
            "\n",
            "WARNING:tensorflow:From /usr/local/lib/python3.6/dist-packages/keras/backend/tensorflow_backend.py:4432: The name tf.random_uniform is deprecated. Please use tf.random.uniform instead.\n",
            "\n",
            "WARNING:tensorflow:From /usr/local/lib/python3.6/dist-packages/keras/optimizers.py:793: The name tf.train.Optimizer is deprecated. Please use tf.compat.v1.train.Optimizer instead.\n",
            "\n",
            "WARNING:tensorflow:From /usr/local/lib/python3.6/dist-packages/keras/backend/tensorflow_backend.py:3005: The name tf.Session is deprecated. Please use tf.compat.v1.Session instead.\n",
            "\n",
            "WARNING:tensorflow:From /usr/local/lib/python3.6/dist-packages/keras/backend/tensorflow_backend.py:190: The name tf.get_default_session is deprecated. Please use tf.compat.v1.get_default_session instead.\n",
            "\n",
            "WARNING:tensorflow:From /usr/local/lib/python3.6/dist-packages/keras/backend/tensorflow_backend.py:197: The name tf.ConfigProto is deprecated. Please use tf.compat.v1.ConfigProto instead.\n",
            "\n",
            "WARNING:tensorflow:From /usr/local/lib/python3.6/dist-packages/keras/backend/tensorflow_backend.py:207: The name tf.global_variables is deprecated. Please use tf.compat.v1.global_variables instead.\n",
            "\n",
            "WARNING:tensorflow:From /usr/local/lib/python3.6/dist-packages/keras/backend/tensorflow_backend.py:216: The name tf.is_variable_initialized is deprecated. Please use tf.compat.v1.is_variable_initialized instead.\n",
            "\n",
            "WARNING:tensorflow:From /usr/local/lib/python3.6/dist-packages/keras/backend/tensorflow_backend.py:223: The name tf.variables_initializer is deprecated. Please use tf.compat.v1.variables_initializer instead.\n",
            "\n",
            "WARNING:tensorflow:From /usr/local/lib/python3.6/dist-packages/keras/backend/tensorflow_backend.py:1033: The name tf.assign_add is deprecated. Please use tf.compat.v1.assign_add instead.\n",
            "\n",
            "WARNING:tensorflow:From /usr/local/lib/python3.6/dist-packages/keras/backend/tensorflow_backend.py:1020: The name tf.assign is deprecated. Please use tf.compat.v1.assign instead.\n",
            "\n",
            "Epoch 000/020 | Loss 0.0050 | Win/lose count 2.5/2.0 (0.5)\n",
            "Epoch 001/020 | Loss 0.0217 | Win/lose count 3.0/2.0 (1.0)\n",
            "Epoch 002/020 | Loss 0.0028 | Win/lose count 6.0/4.0 (2.0)\n",
            "Epoch 003/020 | Loss 0.0051 | Win/lose count 6.0/7.0 (-1.0)\n",
            "Epoch 004/020 | Loss 0.0087 | Win/lose count 4.0/2.0 (2.0)\n",
            "Epoch 005/020 | Loss 0.0015 | Win/lose count 1.5/5.0 (-3.5)\n",
            "Epoch 006/020 | Loss 0.0021 | Win/lose count 1.5/3.0 (-1.5)\n",
            "Epoch 007/020 | Loss 0.0080 | Win/lose count 4.5/3.0 (1.5)\n",
            "Epoch 008/020 | Loss 0.0025 | Win/lose count 3.5/2.0 (1.5)\n",
            "Epoch 009/020 | Loss 0.0044 | Win/lose count 3.0/4.0 (-1.0)\n",
            "Epoch 010/020 | Loss 0.0494 | Win/lose count 5.5/4.0 (1.5)\n",
            "Epoch 011/020 | Loss 0.0033 | Win/lose count 3.5/4.0 (-0.5)\n",
            "Epoch 012/020 | Loss 0.0026 | Win/lose count 4.5/0 (4.5)\n",
            "Epoch 013/020 | Loss 0.0046 | Win/lose count 2.5/4.0 (-1.5)\n",
            "Epoch 014/020 | Loss 0.0030 | Win/lose count 4.0/1.0 (3.0)\n",
            "Epoch 015/020 | Loss 0.0014 | Win/lose count 6.5/4.0 (2.5)\n",
            "Epoch 016/020 | Loss 0.0027 | Win/lose count 9.5/6.0 (3.5)\n",
            "Epoch 017/020 | Loss 0.0036 | Win/lose count 8.5/5.0 (3.5)\n",
            "Epoch 018/020 | Loss 0.0033 | Win/lose count 7.5/2.0 (5.5)\n",
            "Epoch 019/020 | Loss 0.0030 | Win/lose count 11.0/5.0 (6.0)\n"
          ],
          "name": "stdout"
        },
        {
          "output_type": "execute_result",
          "data": {
            "text/html": [
              "<video alt=\"test\" controls>\n",
              "                <source src=\"data:video/mp4;base64,AAAAIGZ0eXBpc29tAAACAGlzb21pc28yYXZjMW1wNDEAAAAIZnJlZQAAFsFtZGF0AAACrQYF//+p3EXpvebZSLeWLNgg2SPu73gyNjQgLSBjb3JlIDE1MiByMjg1NCBlOWE1OTAzIC0gSC4yNjQvTVBFRy00IEFWQyBjb2RlYyAtIENvcHlsZWZ0IDIwMDMtMjAxNyAtIGh0dHA6Ly93d3cudmlkZW9sYW4ub3JnL3gyNjQuaHRtbCAtIG9wdGlvbnM6IGNhYmFjPTEgcmVmPTMgZGVibG9jaz0xOjA6MCBhbmFseXNlPTB4MToweDExMSBtZT1oZXggc3VibWU9NyBwc3k9MSBwc3lfcmQ9MS4wMDowLjAwIG1peGVkX3JlZj0xIG1lX3JhbmdlPTE2IGNocm9tYV9tZT0xIHRyZWxsaXM9MSA4eDhkY3Q9MCBjcW09MCBkZWFkem9uZT0yMSwxMSBmYXN0X3Bza2lwPTEgY2hyb21hX3FwX29mZnNldD00IHRocmVhZHM9MyBsb29rYWhlYWRfdGhyZWFkcz0xIHNsaWNlZF90aHJlYWRzPTAgbnI9MCBkZWNpbWF0ZT0xIGludGVybGFjZWQ9MCBibHVyYXlfY29tcGF0PTAgY29uc3RyYWluZWRfaW50cmE9MCBiZnJhbWVzPTMgYl9weXJhbWlkPTIgYl9hZGFwdD0xIGJfYmlhcz0wIGRpcmVjdD0xIHdlaWdodGI9MSBvcGVuX2dvcD0wIHdlaWdodHA9MiBrZXlpbnQ9MjUwIGtleWludF9taW49MjUgc2NlbmVjdXQ9NDAgaW50cmFfcmVmcmVzaD0wIHJjX2xvb2thaGVhZD00MCByYz1jcmYgbWJ0cmVlPTEgY3JmPTIzLjAgcWNvbXA9MC42MCBxcG1pbj0wIHFwbWF4PTY5IHFwc3RlcD00IGlwX3JhdGlvPTEuNDAgYXE9MToxLjAwAIAAAALFZYiEADf//vaH+BTZWBP+Wb/9DX/cj9uPrP1xYyEE31qvIejAGS+1H+b/rFFs6Z6UB/fgCJQAc24ZwpHZJ46w5MIvVHwKXAT74FNJkWfWMgQvVCkPM7qf31ineHMMlaZnmVaCul1ERMKtwJ29hPnd6djJeh/UtO6OEb4xvyhlmBO9oaC44Ln1s7k57LHrJ0dDl9PL43Ij4fCZ0QmYMMp+Q+pfTdySushDrEVh9VTGo8jumkKoAkXABW6KfH85gjmn6N7orl9L5HsNO7koEw3MOjHhZKHW/UByRUAGhsbqQHAh736V0QNjnPV0HSpXQ4Xp9ygS6y4lPd0apACWCW8+PwkftGUHb8XXdKPU1AzdPSRqfLqQrbKbhx8Tuu95YWaKZMKHLxYAADK4kdkRwgzM+emPH5emWkd9A/oO0GogboMf19d7I7ItfHFJTxlhiNes3qIZBXjqzIwg8bUuYJqvb12SdMVCRKMrd/RviEBbWk0Y8Ms1gN7UiVB6owSr9J5xEvRwcAXX3SuEH1/zunXPv7LdswKCHc7KpiBNJdIHNcfLX47AYW6zpIovq6tkFyzfU1MokT1HdvNtv2wyXl5VYXC7W1mPKrQH2A0cY7Hpi11OdX3xpx7Jq/NDNtIivGRbXNyONI/mAg7lA4tw3BNZqM8fgIJTZ5f9ExUh4S2wdBQNXOUlRx4+2BN+Ms/m7gw6qHlsJBF8AeNA1bw91nnnO8KNG5MPEsIMwlnAXglP3lmsXKencIDsQ7na5vfJ6YZlDLkc7GRETj335lK7NtpZaP21QQQhEyYdWaJL+gJqgBm01slz+s0gyqBJ5WVK/8AuUNLufJhN10qaDzQwZ2yRmTJFVo80Wzyw7NmmN7WUTrQ40+nlIUz6hDK6CiI6qQdAQaQB2x+DSCDjhTQR1LOqsrO6BIfGqE+YWAG3gh+peU15YAAICQAAABhBmiJsQ3/+p4QAcSIyMg4n+U0dlwxQR/AAAAAQAZ5BeQr/AF0bAGSW/1vegQAAABdBmkM8IZMphDf//qeEAEe+OmP8Pq23XwAAAB5BmmZJ4Q8mUwIb//6nhABFvjp9qvNzRweFHNEtWcEAAAASQZ6ERRE8K/8AOKEB8B+ma7MfAAAAEAGepWpCvwAksnznWhheh0EAAAAcQZqoSahBaJlMFPDf/qeEABxvYP85Trwo1uZB+QAAAA8BnsdqQr8AF0bbpRpDxisAAAAYQZrJSeEKUmUwIb/+p4QAEe+OmP8Pq27fAAAAKUGa7EnhDomUwIb//qeEABFvo5+Itl1huthuBTX1BlwKVLQuBTOwMg2hAAAAE0GfCkURPCv/AA4oQHwH6es348AAAAAQAZ8rakK/AAltrXb2sMlLoAAAABpBmy1JqEFomUwIb//+p4QAB3PYP8JwW6F/QQAAAB1Bm1BJ4QpSZTAhv/6nhAAE2+OmP8PqwgeBNf4L0QAAABJBn25FNEwr/wAD4gwCAUwDxWEAAAAOAZ+PakK/AAPjX6R7oV4AAAAYQZuRSahBaJlMCG///qeEAATVbSGD/RzqAAAAF0GbtEnhClJlMCG//qeEAATb46Zjh2EdAAAAEkGf0kU0TCv/AAYiGl3d/SMVwAAAAA4Bn/NqQr8ABiCXGYOErgAAABlBm/VJqEFomUwId//+qZYAAnC/cPq++YeBAAAAEkGaGUnhClJlMCHf/qmWAACVgAAAAAxBnjdFNEwv/wAAsoEAAAAQAZ5WdEK/AAYiyru+obue8QAAABABnlhqQr8AA9ihvYrR92ZAAAAAHEGaXUmoQWiZTAh3//6plgADpDqFkJNzT0Y/TucAAAAQQZ57RREsL/8ABFc/c4WduAAAAA8Bnpp0Qr8ABiLKu7zeCUEAAAAQAZ6cakK/AAYgFjXvNK0swQAAABlBmoFJqEFsmUwId//+qZYAA6ntL+xaziR2AAAAEEGev0UVLC//AARWgOXkduAAAAAQAZ7edEK/AAX4BTPK/JTp8QAAAA8BnsBqQr8ABiErYwrOCUAAAAASQZrFSahBbJlMCG///qeEAAEnAAAAEUGe40UVLC//AARXjPzvIduAAAAAEAGfAnRCvwAF+k0InxZinfEAAAAQAZ8EakK/AAX4mSab6SD3EQAAABpBmwhJqEFsmUwIb//+p4QABNvjp9RxoSIWwQAAABJBnyZFFSwr/wAGIhpd3gU1bcEAAAAOAZ9HakK/AAYglxnfiK4AAAAaQZtJSahBbJlMCG///qeEAAM26tIIRP8uoIAAAAAbQZtqSeEKUmUwId/+qZYAAoHyDNAHqSM39uuBAAAAG0GbjknhDomUwId//qmWAAPV8KPuXsvFWt1+yAAAABFBn6xFETwv/wAEln/WMtXJ2AAAAA8Bn8t0Qr8ABkrKu7zeBsEAAAAQAZ/NakK/AAP4C851oYYkQQAAABxBm9JJqEFomUwId//+qZYAAmBR1CDNAp9GP1BFAAAAEkGf8EURLC//AAL9E0gNIuecOAAAAA8Bng90Qr8AA/kYeUNAzt8AAAAPAZ4RakK/AAP4ClM2zI67AAAAGkGaFkmoQWyZTAh3//6plgACY/Hn8zaUCWqAAAAAFUGeNEUVLC//AAR3HjpnFdTLz/jjPAAAAA8BnlN0Qr8ABiJLNwbJelcAAAAQAZ5VakK/AAYgltOvAFCagAAAABlBmlpJqEFsmUwId//+qZYAAmC/dtPRj9QRAAAAFUGeeEUVLC//AAL8klyZt8kMkE1VMQAAAA8Bnpd0Qr8AA/kYeUNAzt8AAAAPAZ6ZakK/AAP4ClM2zI67AAAAGkGankmoQWyZTAh3//6plgACY/Hn8zaUCWqAAAAAFUGevEUVLC//AAR3HjpnFdTLz/jjPQAAAA8Bntt0Qr8ABiJLNwbJelcAAAAQAZ7dakK/AAYgltOvAFCagAAAABlBmsJJqEFsmUwIb//+p4QABLVtLteOn24qAAAAFUGe4EUVLC//AAL8klyZt8kMkE1VMQAAAA8Bnx90Qr8AA/kYeUNAzt8AAAAPAZ8BakK/AAP4ClM2zI67AAAAGkGbA0moQWyZTAh3//6plgACcFHOtD1ffMPAAAAAEkGbJ0nhClJlMCHf/qmWAACVgQAAAAxBn0VFNEwv/wAAsoEAAAAPAZ9kdEK/AAP42Boec8zXAAAADwGfZmpCvwAD2KG7DPVo3wAAABNBm2tJqEFomUwId//+qZYAAJWAAAAADEGfiUURLC//AACygAAAAA8Bn6h0Qr8AA/jYGh5zzNcAAAAPAZ+qakK/AAPYobsM9WjfAAAAE0Gbr0moQWyZTAh3//6plgAAlYAAAAAMQZ/NRRUsL/8AALKBAAAADwGf7HRCvwAD+NgaHnPM1wAAAA8Bn+5qQr8AA9ihuwz1aN8AAAATQZvzSahBbJlMCHf//qmWAACVgAAAAAxBnhFFFSwv/wAAsoAAAAAPAZ4wdEK/AAP42Boec8zXAAAADwGeMmpCvwAD2KG7DPVo3wAAABxBmjdJqEFsmUwId//+qZYAAnPx5/M0KgWimIlCAAAAEEGeVUUVLC//AALpQIrSkU0AAAAPAZ50dEK/AAYiyru83glAAAAAEAGedmpCvwAD4hEzTfSQgIkAAAAaQZp5SahBbJlMFEw7//6plgACcKnEf31feUMAAAAQAZ6YakK/AAP3zhr3mlaqYAAAABJBmp1J4QpSZTAh3/6plgAAlYEAAAAMQZ67RTRML/8AALKAAAAAEAGe2nRCvwAD2KG7p2XaC4EAAAAQAZ7cakK/AAYhK2L1dhz7wQAAABNBmsFJqEFomUwId//+qZYAAJWAAAAADEGe/0URLC//AACygAAAABABnx50Qr8ABiLKu6vx3jxBAAAAEAGfAGpCvwAGISti9XYc+8AAAAATQZsFSahBbJlMCHf//qmWAACVgQAAAAxBnyNFFSwv/wAAsoAAAAAQAZ9CdEK/AAYiyrur8d48QQAAABABn0RqQr8ABiErYvV2HPvBAAAAE0GbSUmoQWyZTAh3//6plgAAlYEAAAAMQZ9nRRUsL/8AALKBAAAAEAGfhnRCvwAGIsq7q/HePEAAAAAPAZ+IakK/AAPYobsM9WjfAAAAHEGbjUmoQWyZTAh3//6plgADpDqFkJNzT0Y/TucAAAAQQZ+rRRUsL/8ABFaA5eR24AAAABABn8p0Qr8ABiLKu5DZUrHgAAAADwGfzGpCvwAF+sWBdf4+QQAAAB1Bm89JqEFsmUwUTDv//qmWAAOp7S/r+q1CyFLpkwAAAA8Bn+5qQr8ABfiWlSKBLLMAAAASQZvzSeEKUmUwId/+qZYAAJWAAAAADEGeEUU0TC//AACygAAAABABnjB0Qr8AA6yhvZdV/GJBAAAAEAGeMmpCvwADrKG9itH3bYAAAAATQZo3SahBaJlMCHf//qmWAACVgAAAAAxBnlVFESwv/wAAsoEAAAAQAZ50dEK/AAOsob2XVfxiQAAAABABnnZqQr8AA6yhvYrR922BAAAAE0Gae0moQWyZTAh3//6plgAAlYEAAAAMQZ6ZRRUsL/8AALKAAAAAEAGeuHRCvwADrKG9l1X8YkEAAAAQAZ66akK/AAOsob2K0fdtgAAAABNBmr9JqEFsmUwId//+qZYAAJWBAAAADEGe3UUVLC//AACygQAAABABnvx0Qr8AA6yhvZdV/GJAAAAAEAGe/mpCvwADrKG9itH3bYAAAAATQZrjSahBbJlMCHf//qmWAACVgQAAAAxBnwFFFSwv/wAAsoAAAAAQAZ8gdEK/AAOsob2XVfxiQQAAABABnyJqQr8AA6yhvYrR922AAAAAE0GbJ0moQWyZTAh3//6plgAAlYEAAAAMQZ9FRRUsL/8AALKBAAAAEAGfZHRCvwADrKG9l1X8YkEAAAAQAZ9makK/AAOsob2K0fdtgQAAABNBm2tJqEFsmUwId//+qZYAAJWAAAAADEGfiUUVLC//AACygAAAABABn6h0Qr8AA6yhvZdV/GJBAAAAEAGfqmpCvwADrKG9itH3bYAAAAATQZuvSahBbJlMCHf//qmWAACVgAAAAAxBn81FFSwv/wAAsoEAAAAQAZ/sdEK/AAOsob2XVfxiQQAAABABn+5qQr8AA6yhvYrR922BAAAAE0Gb80moQWyZTAh3//6plgAAlYAAAAAMQZ4RRRUsL/8AALKAAAAAEAGeMHRCvwADrKG9l1X8YkEAAAAQAZ4yakK/AAOsob2K0fdtgAAAABNBmjdJqEFsmUwId//+qZYAAJWAAAAADEGeVUUVLC//AACygQAAABABnnR0Qr8AA6yhvZdV/GJAAAAAEAGedmpCvwADrKG9itH3bYEAAAATQZp7SahBbJlMCHf//qmWAACVgQAAAAxBnplFFSwv/wAAsoAAAAAQAZ64dEK/AAOsob2XVfxiQQAAABABnrpqQr8AA6yhvYrR922AAAAAE0Gav0moQWyZTAh3//6plgAAlYEAAAAMQZ7dRRUsL/8AALKBAAAAEAGe/HRCvwADrKG9l1X8YkAAAAAQAZ7+akK/AAOsob2K0fdtgAAAABNBmuNJqEFsmUwId//+qZYAAJWBAAAADEGfAUUVLC//AACygAAAABABnyB0Qr8AA6yhvZdV/GJBAAAAEAGfImpCvwADrKG9itH3bYAAAAATQZsnSahBbJlMCHf//qmWAACVgQAAAAxBn0VFFSwv/wAAsoEAAAAQAZ9kdEK/AAOsob2XVfxiQQAAABABn2ZqQr8AA6yhvYrR922BAAAAE0Gba0moQWyZTAh3//6plgAAlYAAAAAMQZ+JRRUsL/8AALKAAAAAEAGfqHRCvwADrKG9l1X8YkEAAAAQAZ+qakK/AAOsob2K0fdtgAAAABNBm69JqEFsmUwId//+qZYAAJWAAAAADEGfzUUVLC//AACygQAAABABn+x0Qr8AA6yhvZdV/GJBAAAAEAGf7mpCvwADrKG9itH3bYEAAAATQZvzSahBbJlMCHf//qmWAACVgAAAAAxBnhFFFSwv/wAAsoAAAAAQAZ4wdEK/AAOsob2XVfxiQQAAABABnjJqQr8AA6yhvYrR922AAAAAEkGaN0moQWyZTAhv//6nhAABJwAAAAxBnlVFFSwv/wAAsoEAAAAQAZ50dEK/AAOsob2XVfxiQAAAABABnnZqQr8AA6yhvYrR922BAAAAGUGaekmoQWyZTAhn//6eEAASUQ4/ngv5JrUAAAASQZ6YRRUsK/8AA8zMXsLBfstAAAAAEAGeuWpCvwADzM8IeNDW0YEAAAAZQZq7SahBbJlMCG///qeEAATUfMeRif5cowAAABhBmtxJ4QpSZTAhv/6nhAAE9xWkEIn+XJsAAAApQZr/SeEOiZTAhv/+p4QAB/fZfV8CmvqFfgUqWz8CmdgYu3nW2fbOQEEAAAASQZ8dRRE8K/8ABpnbb/Ybzsw5AAAAEAGfPmpCvwAGmdqW4bNrHIAAAAAcQZsiSahBaJlMCG///qeEAAyfvs+1Wy3OBbn76QAAABJBn0BFESwr/wAKPg67vApqgYAAAAAOAZ9hakK/AAo7brwG2nsAAAAaQZtmSahBbJlMCGf//p4QABUfid+KN3Xa4+AAAAAQQZ+ERRUsL/8AAziru9sdYQAAABABn6N0Qr8ABClSO/AB913BAAAADwGfpWpCvwAEVeaILUeZfwAAABpBm6lLqEIQWyRGCCgH8gH9h4AhX/44QAARcQAAAChBn8dFFSwr/wKvY+1BxN2qw0km5aqGByy1u80qIJosoNp7+bi0QQooAAAAIwGf6GpCvwKvY+1BxN2qw0km5aqGByy1u80qIJosoO3r6KFAAAAMMG1vb3YAAABsbXZoZAAAAAAAAAAAAAAAAAAAA+gAAB+QAAEAAAEAAAAAAAAAAAAAAAABAAAAAAAAAAAAAAAAAAAAAQAAAAAAAAAAAAAAAAAAQAAAAAAAAAAAAAAAAAAAAAAAAAAAAAAAAAAAAAAAAAIAAAtadHJhawAAAFx0a2hkAAAAAwAAAAAAAAAAAAAAAQAAAAAAAB+QAAAAAAAAAAAAAAAAAAAAAAABAAAAAAAAAAAAAAAAAAAAAQAAAAAAAAAAAAAAAAAAQAAAAAEQAAABEAAAAAAAJGVkdHMAAAAcZWxzdAAAAAAAAAABAAAfkAAABAAAAQAAAAAK0m1kaWEAAAAgbWRoZAAAAAAAAAAAAAAAAAAAMgAAAZQAVcQAAAAAAC1oZGxyAAAAAAAAAAB2aWRlAAAAAAAAAAAAAAAAVmlkZW9IYW5kbGVyAAAACn1taW5mAAAAFHZtaGQAAAABAAAAAAAAAAAAAAAkZGluZgAAABxkcmVmAAAAAAAAAAEAAAAMdXJsIAAAAAEAAAo9c3RibAAAAJVzdHNkAAAAAAAAAAEAAACFYXZjMQAAAAAAAAABAAAAAAAAAAAAAAAAAAAAAAEQARAASAAAAEgAAAAAAAAAAQAAAAAAAAAAAAAAAAAAAAAAAAAAAAAAAAAAAAAAAAAAABj//wAAAC9hdmNDAfQADf/hABdn9AANkZsoIhHQgAAAAwCAAAAZB4oUywEABWjr48RIAAAAGHN0dHMAAAAAAAAAAQAAAMoAAAIAAAAAFHN0c3MAAAAAAAAAAQAAAAEAAAYIY3R0cwAAAAAAAAC/AAAAAQAABAAAAAABAAAGAAAAAAEAAAIAAAAAAQAABAAAAAABAAAIAAAAAAIAAAIAAAAAAQAABgAAAAABAAACAAAAAAEAAAQAAAAAAQAACAAAAAACAAACAAAAAAEAAAQAAAAAAQAACAAAAAACAAACAAAAAAEAAAQAAAAAAQAACAAAAAACAAACAAAAAAEAAAQAAAAAAQAACgAAAAABAAAEAAAAAAEAAAAAAAAAAQAAAgAAAAABAAAKAAAAAAEAAAQAAAAAAQAAAAAAAAABAAACAAAAAAEAAAoAAAAAAQAABAAAAAABAAAAAAAAAAEAAAIAAAAAAQAACgAAAAABAAAEAAAAAAEAAAAAAAAAAQAAAgAAAAABAAAIAAAAAAIAAAIAAAAAAgAABAAAAAABAAAKAAAAAAEAAAQAAAAAAQAAAAAAAAABAAACAAAAAAEAAAoAAAAAAQAABAAAAAABAAAAAAAAAAEAAAIAAAAAAQAACgAAAAABAAAEAAAAAAEAAAAAAAAAAQAAAgAAAAABAAAKAAAAAAEAAAQAAAAAAQAAAAAAAAABAAACAAAAAAEAAAoAAAAAAQAABAAAAAABAAAAAAAAAAEAAAIAAAAAAQAACgAAAAABAAAEAAAAAAEAAAAAAAAAAQAAAgAAAAABAAAEAAAAAAEAAAoAAAAAAQAABAAAAAABAAAAAAAAAAEAAAIAAAAAAQAACgAAAAABAAAEAAAAAAEAAAAAAAAAAQAAAgAAAAABAAAKAAAAAAEAAAQAAAAAAQAAAAAAAAABAAACAAAAAAEAAAoAAAAAAQAABAAAAAABAAAAAAAAAAEAAAIAAAAAAQAACgAAAAABAAAEAAAAAAEAAAAAAAAAAQAAAgAAAAABAAAGAAAAAAEAAAIAAAAAAQAACgAAAAABAAAEAAAAAAEAAAAAAAAAAQAAAgAAAAABAAAKAAAAAAEAAAQAAAAAAQAAAAAAAAABAAACAAAAAAEAAAoAAAAAAQAABAAAAAABAAAAAAAAAAEAAAIAAAAAAQAACgAAAAABAAAEAAAAAAEAAAAAAAAAAQAAAgAAAAABAAAKAAAAAAEAAAQAAAAAAQAAAAAAAAABAAACAAAAAAEAAAYAAAAAAQAAAgAAAAABAAAKAAAAAAEAAAQAAAAAAQAAAAAAAAABAAACAAAAAAEAAAoAAAAAAQAABAAAAAABAAAAAAAAAAEAAAIAAAAAAQAACgAAAAABAAAEAAAAAAEAAAAAAAAAAQAAAgAAAAABAAAKAAAAAAEAAAQAAAAAAQAAAAAAAAABAAACAAAAAAEAAAoAAAAAAQAABAAAAAABAAAAAAAAAAEAAAIAAAAAAQAACgAAAAABAAAEAAAAAAEAAAAAAAAAAQAAAgAAAAABAAAKAAAAAAEAAAQAAAAAAQAAAAAAAAABAAACAAAAAAEAAAoAAAAAAQAABAAAAAABAAAAAAAAAAEAAAIAAAAAAQAACgAAAAABAAAEAAAAAAEAAAAAAAAAAQAAAgAAAAABAAAKAAAAAAEAAAQAAAAAAQAAAAAAAAABAAACAAAAAAEAAAoAAAAAAQAABAAAAAABAAAAAAAAAAEAAAIAAAAAAQAACgAAAAABAAAEAAAAAAEAAAAAAAAAAQAAAgAAAAABAAAKAAAAAAEAAAQAAAAAAQAAAAAAAAABAAACAAAAAAEAAAoAAAAAAQAABAAAAAABAAAAAAAAAAEAAAIAAAAAAQAACgAAAAABAAAEAAAAAAEAAAAAAAAAAQAAAgAAAAABAAAKAAAAAAEAAAQAAAAAAQAAAAAAAAABAAACAAAAAAEAAAoAAAAAAQAABAAAAAABAAAAAAAAAAEAAAIAAAAAAQAACgAAAAABAAAEAAAAAAEAAAAAAAAAAQAAAgAAAAABAAAIAAAAAAIAAAIAAAAAAgAABAAAAAABAAAIAAAAAAIAAAIAAAAAAQAACAAAAAACAAACAAAAAAEAAAoAAAAAAQAABAAAAAABAAAAAAAAAAEAAAIAAAAAAQAACAAAAAACAAACAAAAABxzdHNjAAAAAAAAAAEAAAABAAAAygAAAAEAAAM8c3RzegAAAAAAAAAAAAAAygAABXoAAAAcAAAAFAAAABsAAAAiAAAAFgAAABQAAAAgAAAAEwAAABwAAAAtAAAAFwAAABQAAAAeAAAAIQAAABYAAAASAAAAHAAAABsAAAAWAAAAEgAAAB0AAAAWAAAAEAAAABQAAAAUAAAAIAAAABQAAAATAAAAFAAAAB0AAAAUAAAAFAAAABMAAAAWAAAAFQAAABQAAAAUAAAAHgAAABYAAAASAAAAHgAAAB8AAAAfAAAAFQAAABMAAAAUAAAAIAAAABYAAAATAAAAEwAAAB4AAAAZAAAAEwAAABQAAAAdAAAAGQAAABMAAAATAAAAHgAAABkAAAATAAAAFAAAAB0AAAAZAAAAEwAAABMAAAAeAAAAFgAAABAAAAATAAAAEwAAABcAAAAQAAAAEwAAABMAAAAXAAAAEAAAABMAAAATAAAAFwAAABAAAAATAAAAEwAAACAAAAAUAAAAEwAAABQAAAAeAAAAFAAAABYAAAAQAAAAFAAAABQAAAAXAAAAEAAAABQAAAAUAAAAFwAAABAAAAAUAAAAFAAAABcAAAAQAAAAFAAAABMAAAAgAAAAFAAAABQAAAATAAAAIQAAABMAAAAWAAAAEAAAABQAAAAUAAAAFwAAABAAAAAUAAAAFAAAABcAAAAQAAAAFAAAABQAAAAXAAAAEAAAABQAAAAUAAAAFwAAABAAAAAUAAAAFAAAABcAAAAQAAAAFAAAABQAAAAXAAAAEAAAABQAAAAUAAAAFwAAABAAAAAUAAAAFAAAABcAAAAQAAAAFAAAABQAAAAXAAAAEAAAABQAAAAUAAAAFwAAABAAAAAUAAAAFAAAABcAAAAQAAAAFAAAABQAAAAXAAAAEAAAABQAAAAUAAAAFwAAABAAAAAUAAAAFAAAABcAAAAQAAAAFAAAABQAAAAXAAAAEAAAABQAAAAUAAAAFwAAABAAAAAUAAAAFAAAABYAAAAQAAAAFAAAABQAAAAdAAAAFgAAABQAAAAdAAAAHAAAAC0AAAAWAAAAFAAAACAAAAAWAAAAEgAAAB4AAAAUAAAAFAAAABMAAAAeAAAALAAAACcAAAAUc3RjbwAAAAAAAAABAAAAMAAAAGJ1ZHRhAAAAWm1ldGEAAAAAAAAAIWhkbHIAAAAAAAAAAG1kaXJhcHBsAAAAAAAAAAAAAAAALWlsc3QAAAAlqXRvbwAAAB1kYXRhAAAAAQAAAABMYXZmNTcuODMuMTAw\" type=\"video/mp4\" />\n",
              "             </video>"
            ],
            "text/plain": [
              "<IPython.core.display.HTML object>"
            ]
          },
          "metadata": {
            "tags": []
          },
          "execution_count": 13
        }
      ]
    },
    {
      "cell_type": "markdown",
      "metadata": {
        "id": "bEi9DKta2ZrW",
        "colab_type": "text"
      },
      "source": [
        "***\n",
        "***\n",
        "__Question 8__ Implement the DQN training algorithm using a CNN (for example, 2 convolutional layers and one final fully connected layer)."
      ]
    },
    {
      "cell_type": "code",
      "metadata": {
        "id": "EucaHlAQ2ZrX",
        "colab_type": "code",
        "colab": {}
      },
      "source": [
        "class DQN_CNN(DQN):\n",
        "    def __init__(self, *args,lr=0.1, **kwargs):\n",
        "        super(DQN_CNN, self).__init__(*args,**kwargs)\n",
        "        \n",
        "        model = Sequential()\n",
        "        model.add(Conv2D(input_shape=(5, 5, self.n_state), filters=16, kernel_size=3, strides=1, activation='relu'))\n",
        "        model.add(Conv2D(filters=16, kernel_size=3, strides=1, activation='relu'))\n",
        "        model.add(Flatten())\n",
        "        # model.add(Dense(50, activation='relu'))\n",
        "        model.add(Dense(4, activation='linear'))\n",
        "        \n",
        "        model.compile(adam(lr=lr, decay=1e-4), \"mse\")\n",
        "        # model.compile(sgd(lr=lr, decay=1e-4, momentum=0.0), \"mse\")\n",
        "        self.model = model"
      ],
      "execution_count": 0,
      "outputs": []
    },
    {
      "cell_type": "code",
      "metadata": {
        "id": "Mo6xI7oq2Zra",
        "colab_type": "code",
        "outputId": "676b1beb-f20f-4771-a74b-28a3ead0caf5",
        "colab": {
          "base_uri": "https://localhost:8080/",
          "height": 511
        }
      },
      "source": [
        "env = Environment(grid_size=size, max_time=T, temperature=0.3)\n",
        "agent = DQN_CNN(size, lr=1e-3, epsilon = 0.1, memory_size=2000, batch_size = 32)\n",
        "train(agent,env,epochs_train,prefix='cnn_train')\n",
        "HTML(display_videos('cnn_train10.mp4'))"
      ],
      "execution_count": 0,
      "outputs": [
        {
          "output_type": "stream",
          "text": [
            "Epoch 000/020 | Loss 0.0014 | Win/lose count 3.0/3.0 (0.0)\n",
            "Epoch 001/020 | Loss 0.0039 | Win/lose count 5.5/3.0 (2.5)\n",
            "Epoch 002/020 | Loss 0.0072 | Win/lose count 6.5/3.0 (3.5)\n",
            "Epoch 003/020 | Loss 0.0030 | Win/lose count 3.5/3.0 (0.5)\n",
            "Epoch 004/020 | Loss 0.0042 | Win/lose count 1.5/3.0 (-1.5)\n",
            "Epoch 005/020 | Loss 0.0070 | Win/lose count 7.5/4.0 (3.5)\n",
            "Epoch 006/020 | Loss 0.0252 | Win/lose count 5.5/0 (5.5)\n",
            "Epoch 007/020 | Loss 0.0024 | Win/lose count 4.5/3.0 (1.5)\n",
            "Epoch 008/020 | Loss 0.0055 | Win/lose count 11.5/6.0 (5.5)\n",
            "Epoch 009/020 | Loss 0.0031 | Win/lose count 13.5/6.0 (7.5)\n",
            "Epoch 010/020 | Loss 0.0031 | Win/lose count 3.5/2.0 (1.5)\n",
            "Epoch 011/020 | Loss 0.0030 | Win/lose count 9.0/3.0 (6.0)\n",
            "Epoch 012/020 | Loss 0.0035 | Win/lose count 12.0/4.0 (8.0)\n",
            "Epoch 013/020 | Loss 0.0041 | Win/lose count 10.5/2.0 (8.5)\n",
            "Epoch 014/020 | Loss 0.0013 | Win/lose count 4.5/0 (4.5)\n",
            "Epoch 015/020 | Loss 0.0017 | Win/lose count 13.5/6.0 (7.5)\n",
            "Epoch 016/020 | Loss 0.0023 | Win/lose count 13.0/3.0 (10.0)\n",
            "Epoch 017/020 | Loss 0.0022 | Win/lose count 8.0/3.0 (5.0)\n",
            "Epoch 018/020 | Loss 0.0024 | Win/lose count 10.5/3.0 (7.5)\n",
            "Epoch 019/020 | Loss 0.0030 | Win/lose count 4.0/0 (4.0)\n"
          ],
          "name": "stdout"
        },
        {
          "output_type": "execute_result",
          "data": {
            "text/html": [
              "<video alt=\"test\" controls>\n",
              "                <source src=\"data:video/mp4;base64,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\" type=\"video/mp4\" />\n",
              "             </video>"
            ],
            "text/plain": [
              "<IPython.core.display.HTML object>"
            ]
          },
          "metadata": {
            "tags": []
          },
          "execution_count": 15
        }
      ]
    },
    {
      "cell_type": "markdown",
      "metadata": {
        "id": "AlK_xziJ2Zre",
        "colab_type": "text"
      },
      "source": [
        "***\n",
        "***\n",
        "__Question 9__ Test both algorithms and compare their performances. Which issue(s) do you observe? Observe also different behaviors by changing the temperature."
      ]
    },
    {
      "cell_type": "code",
      "metadata": {
        "id": "oTroDBdu2Zrf",
        "colab_type": "code",
        "outputId": "733e1bcd-999d-4f2a-ce2e-fb2e531d7c26",
        "colab": {
          "base_uri": "https://localhost:8080/",
          "height": 765
        }
      },
      "source": [
        "env = Environment(grid_size=size, max_time=T,temperature=0.1)\n",
        "agent_cnn = DQN_CNN(size, lr=1e-3, epsilon = 0.1, memory_size=2000, batch_size = 32)\n",
        "agent_cnn.load(name_weights='cnn_trainmodel.h5',name_model='cnn_trainmodel.json')\n",
        "\n",
        "agent_fc = DQN_FC(size, lr=1e-3, epsilon = 0.1, memory_size=2000, batch_size = 32)\n",
        "agent_cnn.load(name_weights='fc_trainmodel.h5',name_model='fc_trainmodel.json')\n",
        "print('Test of the CNN')\n",
        "test(agent_cnn,env,epochs_test,prefix='cnn_test')\n",
        "print('Test of the FC')\n",
        "test(agent_fc,env,epochs_test,prefix='fc_test')"
      ],
      "execution_count": 0,
      "outputs": [
        {
          "output_type": "stream",
          "text": [
            "Test of the CNN\n",
            "Win/lose count 0/5.0. Average score (-5.0)\n",
            "Win/lose count 2.0/0. Average score (-1.5)\n",
            "Win/lose count 5.0/3.0. Average score (-0.3333333333333333)\n",
            "Win/lose count 1.0/3.0. Average score (-0.75)\n",
            "Win/lose count 2.5/0. Average score (-0.1)\n",
            "Win/lose count 1.5/3.0. Average score (-0.3333333333333333)\n",
            "Win/lose count 2.0/0. Average score (0.0)\n",
            "Win/lose count 3.0/0. Average score (0.375)\n",
            "Win/lose count 4.5/2.0. Average score (0.6111111111111112)\n",
            "Win/lose count 2.5/1.0. Average score (0.7)\n",
            "Win/lose count 3.0/1.0. Average score (0.8181818181818182)\n",
            "Win/lose count 1.0/0. Average score (0.8333333333333334)\n",
            "Win/lose count 2.0/0. Average score (0.9230769230769231)\n",
            "Win/lose count 1.5/0. Average score (0.9642857142857143)\n",
            "Win/lose count 2.5/1.0. Average score (1.0)\n",
            "Win/lose count 0/2.0. Average score (0.8125)\n",
            "Win/lose count 2.0/2.0. Average score (0.7647058823529411)\n",
            "Win/lose count 1.5/1.0. Average score (0.75)\n",
            "Win/lose count 2.5/3.0. Average score (0.6842105263157895)\n",
            "Win/lose count 1.5/1.0. Average score (0.675)\n",
            "Final score: 0.675\n",
            "Test of the FC\n",
            "Win/lose count 1.0/3.0. Average score (-2.0)\n",
            "Win/lose count 2.0/1.0. Average score (-0.5)\n",
            "Win/lose count 0.5/1.0. Average score (-0.5)\n",
            "Win/lose count 0.5/1.0. Average score (-0.5)\n",
            "Win/lose count 0.5/2.0. Average score (-0.7)\n",
            "Win/lose count 1.0/2.0. Average score (-0.75)\n",
            "Win/lose count 1.5/0. Average score (-0.42857142857142855)\n",
            "Win/lose count 0.5/2.0. Average score (-0.5625)\n",
            "Win/lose count 0.5/0. Average score (-0.4444444444444444)\n",
            "Win/lose count 1.0/1.0. Average score (-0.4)\n",
            "Win/lose count 1.0/2.0. Average score (-0.45454545454545453)\n",
            "Win/lose count 1.5/3.0. Average score (-0.5416666666666666)\n",
            "Win/lose count 1.0/1.0. Average score (-0.5)\n",
            "Win/lose count 0.5/2.0. Average score (-0.5714285714285714)\n",
            "Win/lose count 0.5/2.0. Average score (-0.6333333333333333)\n",
            "Win/lose count 0/0. Average score (-0.59375)\n",
            "Win/lose count 0.5/2.0. Average score (-0.6470588235294118)\n",
            "Win/lose count 2.0/1.0. Average score (-0.5555555555555556)\n",
            "Win/lose count 1.0/2.0. Average score (-0.5789473684210527)\n",
            "Win/lose count 2.0/2.0. Average score (-0.55)\n",
            "Final score: -0.55\n"
          ],
          "name": "stdout"
        }
      ]
    },
    {
      "cell_type": "code",
      "metadata": {
        "id": "3Qk3hNTy2Zrk",
        "colab_type": "code",
        "outputId": "8f1719a1-021d-4c5a-c701-d6398a3a76ba",
        "colab": {
          "base_uri": "https://localhost:8080/",
          "height": 171
        }
      },
      "source": [
        "HTML(display_videos('cnn_test10.mp4'))"
      ],
      "execution_count": 0,
      "outputs": [
        {
          "output_type": "execute_result",
          "data": {
            "text/html": [
              "<video alt=\"test\" controls>\n",
              "                <source src=\"data:video/mp4;base64,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\" type=\"video/mp4\" />\n",
              "             </video>"
            ],
            "text/plain": [
              "<IPython.core.display.HTML object>"
            ]
          },
          "metadata": {
            "tags": []
          },
          "execution_count": 17
        }
      ]
    },
    {
      "cell_type": "code",
      "metadata": {
        "id": "t6pZ1b7r2Zrn",
        "colab_type": "code",
        "outputId": "fbc72565-9cfd-4c8d-9a13-d86b4013cb37",
        "colab": {
          "base_uri": "https://localhost:8080/",
          "height": 171
        }
      },
      "source": [
        "HTML(display_videos('fc_test10.mp4'))"
      ],
      "execution_count": 0,
      "outputs": [
        {
          "output_type": "execute_result",
          "data": {
            "text/html": [
              "<video alt=\"test\" controls>\n",
              "                <source src=\"data:video/mp4;base64,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\" type=\"video/mp4\" />\n",
              "             </video>"
            ],
            "text/plain": [
              "<IPython.core.display.HTML object>"
            ]
          },
          "metadata": {
            "tags": []
          },
          "execution_count": 18
        }
      ]
    },
    {
      "cell_type": "markdown",
      "metadata": {
        "id": "eaudVxzB2Zrr",
        "colab_type": "text"
      },
      "source": [
        "I observe that both algorithms tend to get stuck in the neighborhood where they started and ate all the cheese, which hinders the full exploration of the space. This phenomenon is accentuated when the temperature decreases, as the reward signal becomes more sparse. This is in part due to the fact that the algorithms can only see at an horizon of 2 pixels. They should be incentivized to explore the space more. I also observe that the CNN based algorithms has better performance than the FC one."
      ]
    },
    {
      "cell_type": "markdown",
      "metadata": {
        "id": "f_H9Zpaw2Zrs",
        "colab_type": "text"
      },
      "source": [
        "***\n",
        "\n",
        "The algorithm tends to not explore the map which can be an issue. We propose two ideas in order to encourage exploration:\n",
        "1. Incorporating a decreasing $\\epsilon$-greedy exploration. You can use the method ```set_epsilon```\n",
        "2. Append via the environment a new state that describes if a cell has been visited or not\n",
        "\n",
        "***\n",
        "__Question 10__ Design a new ```train_explore``` function and environment class ```EnvironmentExploring``` to tackle the issue of exploration.\n",
        "\n"
      ]
    },
    {
      "cell_type": "code",
      "metadata": {
        "id": "AE11HvBT2Zrt",
        "colab_type": "code",
        "colab": {}
      },
      "source": [
        "def train_explore(agent,env,epoch,prefix='', max_epsilon=0.9, min_epsilon=0.1):\n",
        "    # Number of won games\n",
        "    score = 0\n",
        "    loss = 0\n",
        "    step_eps = 0\n",
        "\n",
        "    for e in range(epoch):\n",
        "        # At each epoch, we restart to a fresh game and get the initial state\n",
        "        state = env.reset()\n",
        "        # This assumes that the games will terminate\n",
        "        game_over = False\n",
        "\n",
        "        win = 0\n",
        "        lose = 0\n",
        "\n",
        "        while not game_over:\n",
        "            # The agent performs an action\n",
        "            action = agent.act(state, train=True)\n",
        "\n",
        "            # Apply an action to the environment, get the next state, the reward\n",
        "            # and if the games end\n",
        "            prev_state = state\n",
        "            state, reward, game_over = env.act(action)\n",
        "            reward -= env.malus_position[env.x, env.y]\n",
        "\n",
        "            \n",
        "            # Update the counters\n",
        "            if reward > 0:\n",
        "                win = win + reward\n",
        "            if reward < 0:\n",
        "                lose = lose -reward\n",
        "\n",
        "            # Apply the reinforcement strategy\n",
        "            loss = agent.reinforce(prev_state, state,  action, reward, game_over)\n",
        "\n",
        "            # Update the epsilon parameter\n",
        "            epsilon = min_epsilon + (max_epsilon - min_epsilon) * np.exp(-4*step_eps/(env.max_time * epoch))\n",
        "            agent.set_epsilon(epsilon)\n",
        "            step_eps += 1\n",
        "\n",
        "        # Save as a mp4\n",
        "        if e % 10 == 0:\n",
        "            env.draw(prefix+str(e))\n",
        "\n",
        "        # Update stats\n",
        "        score += win-lose\n",
        "\n",
        "        print(\"Epoch {:03d}/{:03d} | Loss {:.4f} | Win/lose count {}/{} ({}) | {:.3f}\"\n",
        "              .format(e, epoch, loss, win, lose, win-lose, epsilon))\n",
        "        agent.save(name_weights=prefix+'model.h5',name_model=prefix+'model.json')\n",
        "        \n",
        "class EnvironmentExploring(Environment):\n",
        "    def __init__(self, grid_size=10, max_time=500, temperature=0.1):\n",
        "        super(EnvironmentExploring, self).__init__(grid_size=grid_size, max_time=max_time, temperature=temperature)\n",
        "\n",
        "    def act(self, action):\n",
        "        \"\"\"This function returns the new state, reward and decides if the\n",
        "        game ends.\"\"\"\n",
        "        state, reward, game_over = super().act(action)\n",
        "        self.malus_position[self.x, self.y] = 0.1\n",
        "        state = np.concatenate((state[:, :, [0]], state[:, :, [1]], self.malus_position[self.x-2:self.x+3, self.y-2:self.y+3, None]), axis=2)\n",
        "        return state, reward, game_over\n",
        "\n",
        "    def reset(self):\n",
        "        \"\"\"This function resets the game and returns the initial state\"\"\"\n",
        "        state = super().reset()\n",
        "        self.malus_position = np.zeros((self.grid_size, self.grid_size))\n",
        "        self.malus_position[self.x, self.y] = 0.1\n",
        "        state = np.concatenate((state[:, :, [0]], state[:, :, [1]], self.malus_position[self.x-2:self.x+3, self.y-2:self.y+3, None]), axis=2)\n",
        "        return state"
      ],
      "execution_count": 0,
      "outputs": []
    },
    {
      "cell_type": "code",
      "metadata": {
        "id": "5jZ0gP6f2Zr1",
        "colab_type": "code",
        "outputId": "23b6c86d-2a1d-4219-99c9-ad27826f9ebb",
        "colab": {
          "base_uri": "https://localhost:8080/",
          "height": 1000
        }
      },
      "source": [
        "# parameters\n",
        "size = 13\n",
        "T = 200\n",
        "\n",
        "\n",
        "# Training\n",
        "env = EnvironmentExploring(grid_size=size, max_time=T, temperature=0.3)\n",
        "agent = DQN_CNN(size, lr=1e-3, epsilon=0.1, memory_size=2000, batch_size=32, n_state=3)\n",
        "train_explore(agent, env, epoch=50, prefix='cnn_train_explore', max_epsilon=0.9, min_epsilon=0.1)\n",
        "HTML(display_videos('cnn_train_explore10.mp4'))"
      ],
      "execution_count": 0,
      "outputs": [
        {
          "output_type": "stream",
          "text": [
            "Epoch 000/050 | Loss 0.0036 | Win/lose count 4.8/37.90000000000017 (-33.10000000000017) | 0.838\n",
            "Epoch 001/050 | Loss 0.0064 | Win/lose count 11.600000000000005/25.200000000000056 (-13.600000000000051) | 0.781\n",
            "Epoch 002/050 | Loss 0.0580 | Win/lose count 8.400000000000002/25.000000000000036 (-16.600000000000033) | 0.729\n",
            "Epoch 003/050 | Loss 0.0356 | Win/lose count 8.800000000000002/30.900000000000112 (-22.100000000000108) | 0.680\n",
            "Epoch 004/050 | Loss 0.0031 | Win/lose count 9.600000000000003/30.700000000000117 (-21.100000000000115) | 0.635\n",
            "Epoch 005/050 | Loss 0.0056 | Win/lose count 11.200000000000005/27.30000000000011 (-16.100000000000108) | 0.594\n",
            "Epoch 006/050 | Loss 0.0221 | Win/lose count 6.400000000000001/30.500000000000128 (-24.100000000000126) | 0.556\n",
            "Epoch 007/050 | Loss 0.0043 | Win/lose count 15.200000000000008/27.300000000000068 (-12.10000000000006) | 0.521\n",
            "Epoch 008/050 | Loss 0.0109 | Win/lose count 19.199999999999996/30.300000000000097 (-11.100000000000101) | 0.488\n",
            "Epoch 009/050 | Loss 0.0045 | Win/lose count 16.800000000000004/26.900000000000045 (-10.10000000000004) | 0.458\n",
            "Epoch 010/050 | Loss 0.0027 | Win/lose count 7.200000000000002/21.300000000000022 (-14.10000000000002) | 0.431\n",
            "Epoch 011/050 | Loss 0.0080 | Win/lose count 13.200000000000006/32.800000000000104 (-19.600000000000097) | 0.405\n",
            "Epoch 012/050 | Loss 0.0095 | Win/lose count 14.800000000000008/26.400000000000098 (-11.60000000000009) | 0.381\n",
            "Epoch 013/050 | Loss 0.0060 | Win/lose count 14.400000000000007/27.500000000000075 (-13.100000000000067) | 0.360\n",
            "Epoch 014/050 | Loss 0.0049 | Win/lose count 14.000000000000007/23.60000000000007 (-9.600000000000062) | 0.340\n",
            "Epoch 015/050 | Loss 0.0079 | Win/lose count 14.400000000000007/26.500000000000085 (-12.100000000000078) | 0.321\n",
            "Epoch 016/050 | Loss 0.0065 | Win/lose count 15.600000000000009/22.20000000000003 (-6.600000000000023) | 0.304\n",
            "Epoch 017/050 | Loss 0.0676 | Win/lose count 14.800000000000008/23.400000000000066 (-8.600000000000058) | 0.288\n",
            "Epoch 018/050 | Loss 0.0106 | Win/lose count 9.600000000000003/23.700000000000067 (-14.100000000000064) | 0.274\n",
            "Epoch 019/050 | Loss 0.0106 | Win/lose count 19.199999999999996/21.300000000000036 (-2.1000000000000405) | 0.260\n",
            "Epoch 020/050 | Loss 0.0070 | Win/lose count 9.600000000000003/22.700000000000063 (-13.10000000000006) | 0.248\n",
            "Epoch 021/050 | Loss 0.0068 | Win/lose count 16.000000000000007/23.100000000000076 (-7.100000000000069) | 0.236\n",
            "Epoch 022/050 | Loss 0.0132 | Win/lose count 11.600000000000005/21.200000000000006 (-9.600000000000001) | 0.226\n",
            "Epoch 023/050 | Loss 0.0086 | Win/lose count 15.200000000000008/18.299999999999994 (-3.0999999999999854) | 0.216\n",
            "Epoch 024/050 | Loss 0.0069 | Win/lose count 12.000000000000005/23.10000000000007 (-11.100000000000064) | 0.207\n",
            "Epoch 025/050 | Loss 0.0071 | Win/lose count 17.200000000000003/19.800000000000004 (-2.6000000000000014) | 0.199\n",
            "Epoch 026/050 | Loss 0.0067 | Win/lose count 14.800000000000008/23.40000000000005 (-8.60000000000004) | 0.191\n",
            "Epoch 027/050 | Loss 0.0070 | Win/lose count 15.200000000000008/20.30000000000001 (-5.100000000000003) | 0.184\n",
            "Epoch 028/050 | Loss 0.0145 | Win/lose count 15.200000000000008/21.30000000000003 (-6.100000000000021) | 0.178\n",
            "Epoch 029/050 | Loss 0.0073 | Win/lose count 18.0/23.600000000000037 (-5.600000000000037) | 0.172\n",
            "Epoch 030/050 | Loss 0.0080 | Win/lose count 12.000000000000005/20.100000000000023 (-8.100000000000017) | 0.166\n",
            "Epoch 031/050 | Loss 0.0187 | Win/lose count 17.200000000000003/22.800000000000058 (-5.600000000000055) | 0.161\n",
            "Epoch 032/050 | Loss 0.0083 | Win/lose count 13.600000000000007/19.700000000000003 (-6.099999999999996) | 0.156\n",
            "Epoch 033/050 | Loss 0.0126 | Win/lose count 12.000000000000005/26.100000000000072 (-14.100000000000067) | 0.152\n",
            "Epoch 034/050 | Loss 0.0164 | Win/lose count 18.0/23.60000000000005 (-5.600000000000051) | 0.148\n",
            "Epoch 035/050 | Loss 0.0104 | Win/lose count 14.800000000000008/20.40000000000003 (-5.600000000000023) | 0.144\n",
            "Epoch 036/050 | Loss 0.0116 | Win/lose count 19.199999999999996/22.30000000000003 (-3.1000000000000334) | 0.141\n",
            "Epoch 037/050 | Loss 0.0075 | Win/lose count 21.599999999999987/15.69999999999996 (5.900000000000027) | 0.138\n",
            "Epoch 038/050 | Loss 0.0078 | Win/lose count 16.800000000000004/21.900000000000027 (-5.100000000000023) | 0.135\n",
            "Epoch 039/050 | Loss 0.0057 | Win/lose count 15.200000000000008/20.30000000000001 (-5.100000000000003) | 0.132\n",
            "Epoch 040/050 | Loss 0.0087 | Win/lose count 14.400000000000007/19.500000000000014 (-5.100000000000007) | 0.130\n",
            "Epoch 041/050 | Loss 0.0091 | Win/lose count 19.599999999999994/16.199999999999964 (3.4000000000000306) | 0.127\n",
            "Epoch 042/050 | Loss 0.0158 | Win/lose count 14.800000000000008/23.40000000000005 (-8.60000000000004) | 0.125\n",
            "Epoch 043/050 | Loss 0.0122 | Win/lose count 16.400000000000006/19.99999999999999 (-3.5999999999999837) | 0.123\n",
            "Epoch 044/050 | Loss 0.0079 | Win/lose count 18.0/18.600000000000005 (-0.600000000000005) | 0.121\n",
            "Epoch 045/050 | Loss 0.0164 | Win/lose count 15.200000000000008/23.300000000000086 (-8.100000000000078) | 0.120\n",
            "Epoch 046/050 | Loss 0.0064 | Win/lose count 12.400000000000006/23.00000000000003 (-10.600000000000023) | 0.118\n",
            "Epoch 047/050 | Loss 0.0328 | Win/lose count 18.0/16.59999999999997 (1.4000000000000306) | 0.117\n",
            "Epoch 048/050 | Loss 0.0135 | Win/lose count 14.000000000000007/20.60000000000002 (-6.600000000000012) | 0.116\n",
            "Epoch 049/050 | Loss 0.0074 | Win/lose count 18.0/17.599999999999987 (0.4000000000000128) | 0.114\n"
          ],
          "name": "stdout"
        },
        {
          "output_type": "execute_result",
          "data": {
            "text/html": [
              "<video alt=\"test\" controls>\n",
              "                <source src=\"data:video/mp4;base64,AAAAIGZ0eXBpc29tAAACAGlzb21pc28yYXZjMW1wNDEAAAAIZnJlZQAAGCNtZGF0AAACrQYF//+p3EXpvebZSLeWLNgg2SPu73gyNjQgLSBjb3JlIDE1MiByMjg1NCBlOWE1OTAzIC0gSC4yNjQvTVBFRy00IEFWQyBjb2RlYyAtIENvcHlsZWZ0IDIwMDMtMjAxNyAtIGh0dHA6Ly93d3cudmlkZW9sYW4ub3JnL3gyNjQuaHRtbCAtIG9wdGlvbnM6IGNhYmFjPTEgcmVmPTMgZGVibG9jaz0xOjA6MCBhbmFseXNlPTB4MToweDExMSBtZT1oZXggc3VibWU9NyBwc3k9MSBwc3lfcmQ9MS4wMDowLjAwIG1peGVkX3JlZj0xIG1lX3JhbmdlPTE2IGNocm9tYV9tZT0xIHRyZWxsaXM9MSA4eDhkY3Q9MCBjcW09MCBkZWFkem9uZT0yMSwxMSBmYXN0X3Bza2lwPTEgY2hyb21hX3FwX29mZnNldD00IHRocmVhZHM9MyBsb29rYWhlYWRfdGhyZWFkcz0xIHNsaWNlZF90aHJlYWRzPTAgbnI9MCBkZWNpbWF0ZT0xIGludGVybGFjZWQ9MCBibHVyYXlfY29tcGF0PTAgY29uc3RyYWluZWRfaW50cmE9MCBiZnJhbWVzPTMgYl9weXJhbWlkPTIgYl9hZGFwdD0xIGJfYmlhcz0wIGRpcmVjdD0xIHdlaWdodGI9MSBvcGVuX2dvcD0wIHdlaWdodHA9MiBrZXlpbnQ9MjUwIGtleWludF9taW49MjUgc2NlbmVjdXQ9NDAgaW50cmFfcmVmcmVzaD0wIHJjX2xvb2thaGVhZD00MCByYz1jcmYgbWJ0cmVlPTEgY3JmPTIzLjAgcWNvbXA9MC42MCBxcG1pbj0wIHFwbWF4PTY5IHFwc3RlcD00IGlwX3JhdGlvPTEuNDAgYXE9MToxLjAwAIAAAAL6ZYiEADf//vaH+BTZWBP+Wb/9DX/cj9uPrP1xYyEE31qvIejAGS+1H+b/rFFs6Z6UB/fgCJQAc24ZwpHZJ46w5MIvVHwKXAT74FNJkUf192yR0ErYiSrz23w5hsLTM9OWXPaCJZyjDDKgxvjQzWuxUraSkpek9cWSZFoGEb8JQrejRXh2wmYUEBpRPQAUt0g+mdHSGCRyfnE17MYim5XCN2JPx1U6NmYIoT9ColiM4LjXt2rW3Fko346cHJsID9sBr29DOo6bHfd2qazYm3NMb/Rg3vv6v3k+MhusGqFm0Irr8zetE4p9QpEEfOXJ5iFqe9thZSyvaUL5p70oV1ZzsJmyWyuxP8uw8DVsUBuN0/fK4t3zL3pWfvJCBYB3hooZN3KC//sLQZwvoZSJQbd8nFWmHTHAhrfuzHAYYiGGYfqNZbPJVmVQ6jqBIBhwhQJJRFlOoGFx6IsqUdk2d7XVGjW+5MqkHjACPod8JFE5TgYVpYia9m0nZEjNUW1gCxMLB6z32dkZuJZADoZhxkQCYGxRhccA4PY/oK6cmDJ68fvbWSrIJ8Akf7qWKSh2l3246Z7Q+0tWljsgwe/EVsllBv2AsghrP21LbPogN5nXTnd1XQqnw4k80R3YXpMPGpsj5jXbl6dFrfoR0KCQaghgRUsbI3LiPe6e68P+QznpLOjiWSvdb9dXLjxdEIhjVwS0CmSepL65838S5g6i6TL5v8wueFNVWS5yjjdIa4o6tr9F+5AJ3LtG7ZajMEM0PjAdOlBpTy3ladfk49wVjXBEHcYl9Y9cmWhOHpGbPV1V59fb/ZUW63W5Yzw8YICg1Pkvz7Su9BkEmgAJLFFGc6nA9Wkt2LJGIxwNfCFVIZIeu41CUnYoEdlzqjVaNA/d7s0U/Gn1QK6GHbdT5gJUF7Ls4VxCNIW7TZ7hTd+BnF0CbCOGK3SeAYJSkVod/Pl8UffAmjkCN2HNy4wkodvv2TDvV8k/waGcHgJ0U5OshkQGBTdpyBFOgfQAAMWBAAAAFEGaIWxDf/6nhAAIN8dPqiKEh8qAAAAAIUGaRTwhkymEN//+p4QADJ+wfzOjmWWJkdo9O1PBwjUOgQAAABRBnmNqU8L/AAdtNkLiQd9iEmmPwAAAABABnoJ0Qr8ABppNCJ8WYpxJAAAAEAGehGpCvwAKOo0TImlaFUEAAAAaQZqGSahBaJlMCG///qeEAAxPsH+E4LdCtEEAAAAbQZqpSeEKUmUwIZ/+nhAAHn9fd2nN3DZ2wcDvAAAAEEGex0U0TCv/AAZwjQMAYmAAAAAQAZ7oakK/AAY3UTyI6/h5QAAAACBBmutJqEFomUwU8M/+nhAALVXuuI5/SO/v2hcD++Xo0QAAABABnwpqQr8ACW7RCbjPr1fYAAAAF0GbDEnhClJlMCGf/p4QAEVOEc/S/uauAAAAGEGbLUnhDomUwIZ//p4QAGvkMc/hzm+t7QAAABtBm05J4Q8mUwIb//6nhAArHon+q31UCE/uvuEAAAAYQZtvSeEPJlMCG//+p4QAQVAFm2MUJVbBAAAAHEGbkknhDyZTAhv//qeEAENHzHJO/z5MH+rV1aAAAAARQZ+wRRE8K/8AN06tgkJW/E0AAAAOAZ/RakK/ADdOviuBKTUAAAAXQZvUSahBaJlMFPDf/qeEAEW+On2uxYAAAAAPAZ/zakK/ADic4bA5Tg+AAAAAGUGb9UnhClJlMCG//qeEAGlpE/1W+Y/EPmEAAAAdQZoXSeEOiZTBTRMO//6plgBQNLOUGaBT6Mfpi9IAAAAQAZ42akK/AIK80TImlZt6QQAAAB9BmjtJ4Q8mUwIb//6nhADy+wf5a6WCu0/M1TW5vVmBAAAAEUGeWUURPC//AJLP+rR8p+PiAAAADwGeeHRCvwDI2Vd3m7UgwQAAABABnnpqQr8AfwF5zrQwvGPAAAAAGkGafkmoQWiZTAhv//6nhABk/YP8JwW6EnHBAAAAD0GenEURLCv/AFHbcCTwQQAAAA0Bnr1qQr8AUflYeKeCAAAAGUGav0moQWyZTAhv//6nhAA/vsHr2Z8EWAcAAAAZQZrASeEKUmUwId/+qZYAH19pfzukKYRW0QAAABFBmuRJ4Q6JlMCG//6nhAABJwAAAAxBnwJFETwv/wAAsoEAAAAPAZ8hdEK/ACG7jujtvhZbAAAADwGfI2pCvwAhrzRBajy8TwAAABpBmyVJqEFomUwId//+qZYAFL99X12INxUV0QAAABxBm0lJ4QpSZTAhv/6nhAAbH2D+bS6geHFkKdIrAAAAE0GfZ0U0TC//ABBcewZHLwty87kAAAAPAZ+GdEK/ABa8sGDZjiYZAAAAEAGfiGpCvwAWtr5zrQwvasAAAAAZQZuNSahBaJlMCG///qeEABubUHdvsH66lwAAABBBn6tFESwv/wAQXP2bghTwAAAADwGfynRCvwAWLoB0JyYVYAAAABABn8xqQr8AFrsI8mB696OBAAAAGkGbzkmoQWyZTAh3//6plgAVv5BmgD0l9hRxAAAAGUGb8UnhClJlMCHf/qmWABXffVlVmbZgUUEAAAASQZ4PRTRMK/8ANhDS7u/pFdxAAAAAEAGeMGpCvwA2BHbnWhheYkAAAAAcQZo1SahBaJlMCG///qeEAD4A8TXGqJfon+RDiQAAABBBnlNFESwv/wAlufucLKc4AAAADwGecnRCvwAhtoQGSXMtgAAAABABnnRqQr8AM47cJuM+vTvNAAAAGkGadkmoQWyZTAh3//6plgAxVSDNAHpL7AlQAAAAG0GamknhClJlMCG//qeEAJqPmamzbjN7qfFuBQAAABBBnrhFNEwv/wBdKBBShhWZAAAADwGe13RCvwB5rFYwhVquwAAAABABntlqQr8AfFmDyYHr26SBAAAAGkGa3UmoQWiZTAhv//6nhADsHGf6rfMfiDegAAAAEUGe+0URLCv/AMO7T/o5IqkPAAAADgGfHGpCvwDDu1XNeqQ9AAAAGkGbHkmoQWyZTAh3//6plgDCxYbot3MfgKPgAAAAGUGbIknhClJlMCHf/qmWAfPU/Ks/e0vssTsAAAAQQZ9ARTRML/8BW1XW2sC6YQAAABABn390Qr8BK1i26dl2VJuAAAAAEAGfYWpCvwHR7Q5/mW79b0EAAAATQZtmSahBaJlMCHf//qmWAACVgAAAAAxBn4RFESwv/wAAsoEAAAAPAZ+jdEK/AStUjiOy7Kk3AAAADwGfpWpCvwErVI3WerPSDwAAABNBm6pJqEFsmUwId//+qZYAAJWBAAAAFEGfyEUVLC//AVFNn5m3ELc/2iW0AAAAEAGf53RCvwHGjMiOxZijTjgAAAAQAZ/pakK/AdIPBrjxVtGwYQAAABxBm+1JqEFsmUwId//+qZYB9JISbSoQgH9+zabgAAAAEkGeC0UVLCv/AdIffQtyRVDjgAAAAA4BnixqQr8B0h+LWvVDjwAAABdBmjFJqEFsmUwId//+qZYCJEw3RLUYsQAAAA5Bnk9FFSwv/wFlEV464QAAAA8Bnm50Qr8B3yQNEFzp4QsAAAAPAZ5wakK/AcxIBdZ6s9FbAAAAHEGadUmoQWyZTAh3//6plgIB2Y/M+CWcoNwThs0AAAAQQZ6TRRUsL/8BWxGtusF0wAAAABABnrJ0Qr8B0X8Bklv9bLKAAAAADwGetGpCvwEueaJqSmzZgQAAABNBmrlJqEFsmUwId//+qZYAAJWAAAAAEEGe10UVLC//AVtyIdudBdMAAAAQAZ72dEK/AdJCtV4EV2yygQAAABABnvhqQr8B0bL9UfQPgHjAAAAAHEGa/UmoQWyZTAh3//6plgC9ejH6P7sxabjFA1MAAAAQQZ8bRRUsL/8A16rxvYIouAAAAA4Bnzp0Qr8BLtx3nnFpBwAAABABnzxqQr8BJpZDD6AkHE2ZAAAAGUGbIUmoQWyZTAh3//6plgC8HdHPx5/NA1IAAAAQQZ9fRRUsL/8A16rxvYIouAAAAA8Bn350Qr8Aw6TU9Wd9U0EAAAAQAZ9gakK/AS55omRNKzZswAAAABNBm2VJqEFsmUwId//+qZYAAJWBAAAADEGfg0UVLC//AACygAAAABABn6J0Qr8BI1SO/AB9um3BAAAADwGfpGpCvwEueaILUeXSDwAAABxBm6lJqEFsmUwIb//+p4QBdPRP8Va8DwboslJxAAAAEEGfx0UVLC//ANeq8b2CKLkAAAAPAZ/mdEK/AcaxWMIVadVAAAAAEAGf6GpCvwEuzRvNMVbRysAAAAAdQZvrSahBbJlMFEw3//6nhADtewf55BWqZCRbyJkAAAAQAZ4KakK/AMOTJNN9JBxUkAAAABlBmgxJ4QpSZTAh3/6plgBQvfVlVmbZgFfAAAAAEkGaMEnhDomUwId//qmWAACVgQAAABNBnk5FETwv/wBdMls1Myy5DQoNAAAAEAGebXRCvwB8OGAyS3+t0kEAAAAQAZ5vakK/AHxZg8mB69ukgAAAABNBmnRJqEFomUwId//+qZYAAJWAAAAADEGekkURLC//AACygQAAABABnrF0Qr8Aw9lXdX47v4HAAAAADwGes2pCvwB7FDdhnqz1QQAAABNBmrhJqEFsmUwId//+qZYAAJWBAAAADEGe1kUVLC//AACygAAAABABnvV0Qr8AexQ3dOy7KruBAAAADwGe92pCvwB7FDdhnqz1QQAAABtBmvxJqEFsmUwId//+qZYATn48/lXpyLRCMAwAAAAVQZ8aRRUsL/8AXRlgnAv1xsakuoAJAAAAEAGfOXRCvwB8OGAyS3+t0kAAAAAQAZ87akK/AFHpRvNMVbSkwQAAABxBmyBJqEFsmUwId//+qZYAID8efy7PahZClz7HAAAAEEGfXkUVLC//ACa5+zcEE/AAAAAPAZ99dEK/ADTJNT1Z34zAAAAADwGff2pCvwA0xLSpFAlV8wAAABxBm2RJqEFsmUwId//+qZYAFL99X3xhUC0UxDamAAAAEEGfgkUVLC//ABiBHGdysOEAAAAQAZ+hdEK/ACG7jvK2UPUGgAAAAA8Bn6NqQr8AFi5QPJgje4EAAAAaQZunSahBbJlMCHf//qmWABUvkGaAPSX2FTEAAAAPQZ/FRRUsK/8AIbK4ErBBAAAADwGf5mpCvwAhwaB5MEZugQAAABxBm+tJqEFsmUwIb//+p4QAQUfM1Nm3Gb3U+Lr0AAAAEEGeCUUVLC//ACfMsE+N/MAAAAAQAZ4odEK/ADYSLKvAiu5AgQAAAA8BnipqQr8AN0zc2CQAupAAAAAfQZotSahBbJlMFEw7//6plgA1EFmLTNAd32qjN+hW6AAAABABnkxqQr8AVmx45X6xSOFBAAAAEUGaUUnhClJlMCG//qeEAAEnAAAAE0Geb0U0TC//AD4xLcpmPmIirZUAAAAQAZ6OdEK/AFitHeVsoek9wAAAABABnpBqQr8AVmyITcZ9enF4AAAAHEGalUmoQWiZTAhv//6nhABp/YP85Trwo1uY8LkAAAAQQZ6zRREsL/8APinTv83l+AAAAA8BntJ0Qr8AgwgDoTkvE0AAAAAQAZ7UakK/AFZbdFVnH4DcsQAAABpBmtZJqEFsmUwIb//+p4QAQb6Yn8f4fVtu8gAAAB1BmvhJ4QpSZTBRUsN//qeEAGHdWzE/1dvdT9q6qQAAABABnxdqQr8AT6yITcZ9enJJAAAAG0GbHEnhDomUwIb//qeEAJqPmamzbjN7qfFuBAAAABBBnzpFFTwv/wBdGWCfG6DBAAAAEAGfWXRCvwB8Yq1XgRXbpIAAAAAPAZ9bakK/AHxr5odaKtaBAAAAHEGbXkmoQWiZTBTw3/6nhADxg8OLGqH++Oni13UAAAAQAZ99akK/AMi7Utw2bUzGgAAAABxBm2BJ4QpSZTBSw3/+p4QA8vsH+eQVqmQkW8hYAAAAEAGfn2pCvwDNs3NceKto9qEAAAAZQZuBSeEOiZTAhv/+p4QAo/up+o40JDhSQAAAABlBm6JJ4Q8mUwId//6plgA1XtL+d0hTCJsxAAAAHEGbxknhDyZTAh3//qmWACI/Hn8i9LnaTBoBsIAAAAAVQZ/kRRE8L/8AKOyxSydLjY+lgiq1AAAAEAGeA3RCvwA3QCmeV+Sm1pkAAAAPAZ4FakK/ACSyt0o0h4sXAAAAHEGaCkmoQWiZTAhv//6nhAAcb2D/OU68KNbmQfkAAAAVQZ4oRREsL/8AENoDm0rlciRzt9sYAAAAEAGeR3RCvwAX55N5Wyh6pUAAAAAPAZ5JakK/AA8wKUzbMjbtAAAAGkGaTUmoQWyZTAhv//6nhAAbmkT/Vb5j8TugAAAAEkGea0UVLCv/ABa7HgQkY/dVwAAAAA4BnoxqQr8AFrseun6orwAAABpBmo5JqEFsmUwId//+qZYAFb+QZoA9JfYUcQAAABFBmrJJ4QpSZTAhv/6nhAABJwAAABNBntBFNEwv/wAo6bOTNuHBLmmkAAAAEAGe73RCvwA3UiyrwIruO4AAAAAQAZ7xakK/ADdEdudaGF5gQQAAABxBmvRJqEFomUwU8O/+qZYAIAUdQgzQKfRj9Mi8AAAAEAGfE2pCvwA0ztwm4z69O6QAAAAbQZsYSeEKUmUwId/+qZYAID8efy7PahZClz7HAAAAEEGfNkU0TC//ACa5+zcEE/AAAAAPAZ9VdEK/ADTJKIUwRhuBAAAADwGfV2pCvwA0xLSpFAlV8wAAABxBm1xJqEFomUwIb//+p4QAKR7qfutLM1Nui2S4AAAAEEGfekURLC//ABiFXjewTbkAAAAOAZ+ZdEK/ACG7jvPOLicAAAAQAZ+bakK/ACCyyGH0BIOW6QAAABxBm4BJqEFsmUwIb//+p4QAGx9g/zyCtUyEi4GZAAAAEEGfvkUVLC//AA/f8VeRZ2AAAAAQAZ/ddEK/ABa7R3lbKHqqwAAAAA8Bn99qQr8AFrja7vu+FCEAAAAaQZvBSahBbJlMCG///qeEABHvjp9RxoSHXcAAAAAVQZvlSeEKUmUwIZ/+nhAALr7pvsTnAAAADkGeA0U0TC//AAcT9yzgAAAADwGeInRCvwAJruO6O2+GbwAAABABniRqQr8ACVKkd7PH3HaBAAAAGUGaJkmoQWiZTAhn//6eEAAtnum+ipWa+h8AAAAaQZpJS+EIQpSRGCCgH8gH9h4AhX/+OEAAEXEAAAAnQZ5nRTRMK/8Cr2PtQcTdqsNJJuWqhgcstbvNKiCaPOod9OwTXo2AAAAAIwGeiGpCvwKvY+1BxN2qw0km5aqGByy1u80qIJo86h2eEYtAAAAMEG1vb3YAAABsbXZoZAAAAAAAAAAAAAAAAAAAA+gAAB+QAAEAAAEAAAAAAAAAAAAAAAABAAAAAAAAAAAAAAAAAAAAAQAAAAAAAAAAAAAAAAAAQAAAAAAAAAAAAAAAAAAAAAAAAAAAAAAAAAAAAAAAAAIAAAs6dHJhawAAAFx0a2hkAAAAAwAAAAAAAAAAAAAAAQAAAAAAAB+QAAAAAAAAAAAAAAAAAAAAAAABAAAAAAAAAAAAAAAAAAAAAQAAAAAAAAAAAAAAAAAAQAAAAAEQAAABEAAAAAAAJGVkdHMAAAAcZWxzdAAAAAAAAAABAAAfkAAABAAAAQAAAAAKsm1kaWEAAAAgbWRoZAAAAAAAAAAAAAAAAAAAMgAAAZQAVcQAAAAAAC1oZGxyAAAAAAAAAAB2aWRlAAAAAAAAAAAAAAAAVmlkZW9IYW5kbGVyAAAACl1taW5mAAAAFHZtaGQAAAABAAAAAAAAAAAAAAAkZGluZgAAABxkcmVmAAAAAAAAAAEAAAAMdXJsIAAAAAEAAAodc3RibAAAAJVzdHNkAAAAAAAAAAEAAACFYXZjMQAAAAAAAAABAAAAAAAAAAAAAAAAAAAAAAEQARAASAAAAEgAAAAAAAAAAQAAAAAAAAAAAAAAAAAAAAAAAAAAAAAAAAAAAAAAAAAAABj//wAAAC9hdmNDAfQADf/hABdn9AANkZsoIhHQgAAAAwCAAAAZB4oUywEABWjr48RIAAAAGHN0dHMAAAAAAAAAAQAAAMoAAAIAAAAAFHN0c3MAAAAAAAAAAQAAAAEAAAXoY3R0cwAAAAAAAAC7AAAAAgAABAAAAAABAAAKAAAAAAEAAAQAAAAAAQAAAAAAAAABAAACAAAAAAEAAAQAAAAAAQAACAAAAAACAAACAAAAAAEAAAYAAAAAAQAAAgAAAAAEAAAEAAAAAAEAAAgAAAAAAgAAAgAAAAABAAAGAAAAAAEAAAIAAAAAAQAABAAAAAABAAAGAAAAAAEAAAIAAAAAAQAACgAAAAABAAAEAAAAAAEAAAAAAAAAAQAAAgAAAAABAAAIAAAAAAIAAAIAAAAAAgAABAAAAAABAAAKAAAAAAEAAAQAAAAAAQAAAAAAAAABAAACAAAAAAEAAAQAAAAAAQAACgAAAAABAAAEAAAAAAEAAAAAAAAAAQAAAgAAAAABAAAKAAAAAAEAAAQAAAAAAQAAAAAAAAABAAACAAAAAAEAAAQAAAAAAQAACAAAAAACAAACAAAAAAEAAAoAAAAAAQAABAAAAAABAAAAAAAAAAEAAAIAAAAAAQAABAAAAAABAAAKAAAAAAEAAAQAAAAAAQAAAAAAAAABAAACAAAAAAEAAAgAAAAAAgAAAgAAAAABAAAEAAAAAAEAAAoAAAAAAQAABAAAAAABAAAAAAAAAAEAAAIAAAAAAQAACgAAAAABAAAEAAAAAAEAAAAAAAAAAQAAAgAAAAABAAAKAAAAAAEAAAQAAAAAAQAAAAAAAAABAAACAAAAAAEAAAgAAAAAAgAAAgAAAAABAAAKAAAAAAEAAAQAAAAAAQAAAAAAAAABAAACAAAAAAEAAAoAAAAAAQAABAAAAAABAAAAAAAAAAEAAAIAAAAAAQAACgAAAAABAAAEAAAAAAEAAAAAAAAAAQAAAgAAAAABAAAKAAAAAAEAAAQAAAAAAQAAAAAAAAABAAACAAAAAAEAAAoAAAAAAQAABAAAAAABAAAAAAAAAAEAAAIAAAAAAQAACgAAAAABAAAEAAAAAAEAAAAAAAAAAQAAAgAAAAABAAAKAAAAAAEAAAQAAAAAAQAAAAAAAAABAAACAAAAAAEAAAYAAAAAAQAAAgAAAAABAAAEAAAAAAEAAAoAAAAAAQAABAAAAAABAAAAAAAAAAEAAAIAAAAAAQAACgAAAAABAAAEAAAAAAEAAAAAAAAAAQAAAgAAAAABAAAKAAAAAAEAAAQAAAAAAQAAAAAAAAABAAACAAAAAAEAAAoAAAAAAQAABAAAAAABAAAAAAAAAAEAAAIAAAAAAQAACgAAAAABAAAEAAAAAAEAAAAAAAAAAQAAAgAAAAABAAAKAAAAAAEAAAQAAAAAAQAAAAAAAAABAAACAAAAAAEAAAgAAAAAAgAAAgAAAAABAAAKAAAAAAEAAAQAAAAAAQAAAAAAAAABAAACAAAAAAEAAAYAAAAAAQAAAgAAAAABAAAKAAAAAAEAAAQAAAAAAQAAAAAAAAABAAACAAAAAAEAAAoAAAAAAQAABAAAAAABAAAAAAAAAAEAAAIAAAAAAQAABAAAAAABAAAGAAAAAAEAAAIAAAAAAQAACgAAAAABAAAEAAAAAAEAAAAAAAAAAQAAAgAAAAABAAAGAAAAAAEAAAIAAAAAAQAABgAAAAABAAACAAAAAAIAAAQAAAAAAQAACgAAAAABAAAEAAAAAAEAAAAAAAAAAQAAAgAAAAABAAAKAAAAAAEAAAQAAAAAAQAAAAAAAAABAAACAAAAAAEAAAgAAAAAAgAAAgAAAAABAAAEAAAAAAEAAAoAAAAAAQAABAAAAAABAAAAAAAAAAEAAAIAAAAAAQAABgAAAAABAAACAAAAAAEAAAoAAAAAAQAABAAAAAABAAAAAAAAAAEAAAIAAAAAAQAACgAAAAABAAAEAAAAAAEAAAAAAAAAAQAAAgAAAAABAAAKAAAAAAEAAAQAAAAAAQAAAAAAAAABAAACAAAAAAEAAAQAAAAAAQAACgAAAAABAAAEAAAAAAEAAAAAAAAAAQAAAgAAAAABAAAEAAAAAAEAAAgAAAAAAgAAAgAAAAAcc3RzYwAAAAAAAAABAAAAAQAAAMoAAAABAAADPHN0c3oAAAAAAAAAAAAAAMoAAAWvAAAAGAAAACUAAAAYAAAAFAAAABQAAAAeAAAAHwAAABQAAAAUAAAAJAAAABQAAAAbAAAAHAAAAB8AAAAcAAAAIAAAABUAAAASAAAAGwAAABMAAAAdAAAAIQAAABQAAAAjAAAAFQAAABMAAAAUAAAAHgAAABMAAAARAAAAHQAAAB0AAAAVAAAAEAAAABMAAAATAAAAHgAAACAAAAAXAAAAEwAAABQAAAAdAAAAFAAAABMAAAAUAAAAHgAAAB0AAAAWAAAAFAAAACAAAAAUAAAAEwAAABQAAAAeAAAAHwAAABQAAAATAAAAFAAAAB4AAAAVAAAAEgAAAB4AAAAdAAAAFAAAABQAAAAUAAAAFwAAABAAAAATAAAAEwAAABcAAAAYAAAAFAAAABQAAAAgAAAAFgAAABIAAAAbAAAAEgAAABMAAAATAAAAIAAAABQAAAAUAAAAEwAAABcAAAAUAAAAFAAAABQAAAAgAAAAFAAAABIAAAAUAAAAHQAAABQAAAATAAAAFAAAABcAAAAQAAAAFAAAABMAAAAgAAAAFAAAABMAAAAUAAAAIQAAABQAAAAdAAAAFgAAABcAAAAUAAAAFAAAABcAAAAQAAAAFAAAABMAAAAXAAAAEAAAABQAAAATAAAAHwAAABkAAAAUAAAAFAAAACAAAAAUAAAAEwAAABMAAAAgAAAAFAAAABQAAAATAAAAHgAAABMAAAATAAAAIAAAABQAAAAUAAAAEwAAACMAAAAUAAAAFQAAABcAAAAUAAAAFAAAACAAAAAUAAAAEwAAABQAAAAeAAAAIQAAABQAAAAfAAAAFAAAABQAAAATAAAAIAAAABQAAAAgAAAAFAAAAB0AAAAdAAAAIAAAABkAAAAUAAAAEwAAACAAAAAZAAAAFAAAABMAAAAeAAAAFgAAABIAAAAeAAAAFQAAABcAAAAUAAAAFAAAACAAAAAUAAAAHwAAABQAAAATAAAAEwAAACAAAAAUAAAAEgAAABQAAAAgAAAAFAAAABQAAAATAAAAHgAAABkAAAASAAAAEwAAABQAAAAdAAAAHgAAACsAAAAnAAAAFHN0Y28AAAAAAAAAAQAAADAAAABidWR0YQAAAFptZXRhAAAAAAAAACFoZGxyAAAAAAAAAABtZGlyYXBwbAAAAAAAAAAAAAAAAC1pbHN0AAAAJal0b28AAAAdZGF0YQAAAAEAAAAATGF2ZjU3LjgzLjEwMA==\" type=\"video/mp4\" />\n",
              "             </video>"
            ],
            "text/plain": [
              "<IPython.core.display.HTML object>"
            ]
          },
          "metadata": {
            "tags": []
          },
          "execution_count": 20
        }
      ]
    },
    {
      "cell_type": "code",
      "metadata": {
        "id": "Iinzfu--2Zr5",
        "colab_type": "code",
        "outputId": "fbe666dc-8703-4a69-be82-b7c0d145787d",
        "colab": {
          "base_uri": "https://localhost:8080/",
          "height": 528
        }
      },
      "source": [
        "# Evaluation\n",
        "test(agent,env,epochs_test,prefix='cnn_test_explore')\n",
        "HTML(display_videos('cnn_test_explore10.mp4'))"
      ],
      "execution_count": 0,
      "outputs": [
        {
          "output_type": "stream",
          "text": [
            "Win/lose count 15.5/6.0. Average score (9.5)\n",
            "Win/lose count 13.5/4.0. Average score (9.5)\n",
            "Win/lose count 20.0/3.0. Average score (12.0)\n",
            "Win/lose count 20.5/4.0. Average score (13.125)\n",
            "Win/lose count 17.0/8.0. Average score (12.3)\n",
            "Win/lose count 17.5/4.0. Average score (12.5)\n",
            "Win/lose count 15.0/5.0. Average score (12.142857142857142)\n",
            "Win/lose count 19.5/3.0. Average score (12.6875)\n",
            "Win/lose count 19.0/4.0. Average score (12.944444444444445)\n",
            "Win/lose count 15.0/2.0. Average score (12.95)\n",
            "Win/lose count 19.5/4.0. Average score (13.181818181818182)\n",
            "Win/lose count 17.5/4.0. Average score (13.208333333333334)\n",
            "Win/lose count 17.5/1.0. Average score (13.461538461538462)\n",
            "Win/lose count 22.5/3.0. Average score (13.892857142857142)\n",
            "Win/lose count 21.0/4.0. Average score (14.1)\n",
            "Win/lose count 21.5/3.0. Average score (14.375)\n",
            "Win/lose count 25.0/2.0. Average score (14.882352941176471)\n",
            "Win/lose count 17.0/3.0. Average score (14.833333333333334)\n",
            "Win/lose count 17.0/1.0. Average score (14.894736842105264)\n",
            "Win/lose count 23.0/4.0. Average score (15.1)\n",
            "Final score: 15.1\n"
          ],
          "name": "stdout"
        },
        {
          "output_type": "execute_result",
          "data": {
            "text/html": [
              "<video alt=\"test\" controls>\n",
              "                <source src=\"data:video/mp4;base64,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\" type=\"video/mp4\" />\n",
              "             </video>"
            ],
            "text/plain": [
              "<IPython.core.display.HTML object>"
            ]
          },
          "metadata": {
            "tags": []
          },
          "execution_count": 21
        }
      ]
    },
    {
      "cell_type": "markdown",
      "metadata": {
        "id": "3Osuae4M2ZsA",
        "colab_type": "text"
      },
      "source": [
        "***\n",
        "***\n",
        "__BONUS question__ Use the expert DQN from the previous question to generate some winning games. Train a model that mimicks its behavior. Compare the performances."
      ]
    },
    {
      "cell_type": "markdown",
      "metadata": {
        "id": "vsWkn46G2ZsB",
        "colab_type": "text"
      },
      "source": [
        ""
      ]
    },
    {
      "cell_type": "markdown",
      "metadata": {
        "id": "KfaSL1XO2ZsC",
        "colab_type": "text"
      },
      "source": [
        "***"
      ]
    }
  ]
}